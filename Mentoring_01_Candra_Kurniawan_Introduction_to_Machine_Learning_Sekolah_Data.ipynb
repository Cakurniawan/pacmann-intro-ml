{
  "cells": [
    {
      "cell_type": "markdown",
      "metadata": {
        "id": "Rk-wJshZrKtw"
      },
      "source": [
        "# Mentoring 1 - Introduction to Machine Learning\n",
        "---\n",
        "\n",
        "Mentoring Session - Job Preparation Program - Pacmann AI"
      ]
    },
    {
      "cell_type": "markdown",
      "metadata": {
        "id": "0le3bfkbsWCu"
      },
      "source": [
        "## Instructions\n",
        "---"
      ]
    },
    {
      "cell_type": "markdown",
      "metadata": {
        "id": "6NAWntWqu6Bu"
      },
      "source": [
        "1. Please fill all the given tasks in here\n",
        "2. You can use any library\n",
        "3. For modeling, please use `sklearn` library\n",
        "4. You are taksed to create a function based machine learning model. (If you cannot create the functions from the start, you can create without a function first, then put it all into a function)\n",
        "5. Make sure you are following all the function descriptions\n",
        "6. Submit your result to the submission form"
      ]
    },
    {
      "cell_type": "markdown",
      "metadata": {
        "id": "4VF3H55TwV1f"
      },
      "source": [
        "## Dataset Description\n",
        "---"
      ]
    },
    {
      "cell_type": "markdown",
      "metadata": {
        "id": "pm47UzYPwY1h"
      },
      "source": [
        "**Note**\n",
        "\n",
        "- This dataset originally comes from [Uber Fares Dataset](https://www.kaggle.com/datasets/yasserh/uber-fares-dataset)\n",
        "- We perform several edit for this mentoring purposes. So, please use the dataset from [here](https://drive.google.com/file/d/1-Fr3OMbI1yKU_jNy-6cgXFJDVzjph3sn/view?usp=sharing).\n"
      ]
    },
    {
      "cell_type": "markdown",
      "metadata": {
        "id": "XTVZoo2jw2mv"
      },
      "source": [
        "**Description**\n",
        "- We're looking to predict the fare of Uber's transactions.\n",
        "- The dataset contains of the following fields\n",
        "\n",
        "<center>\n",
        "\n",
        "|Feature|Type|Descriptions|\n",
        "|:--|:--|:--|\n",
        "|`order_id`| `int` | a unique identifier for each trip|\n",
        "|`pickup_time` | `str` | a class of pickup time. `04-10`, `10-16`, `16-22`, `22-04`. E.g. `04-10` means the pickup time is between 04.00 to 10.00|\n",
        "| `pickup_longitude` | `float` | the longitude where the meter was engaged|\n",
        "| `pickup_latitude` | `float` | the latitude where the meter was engaged|\n",
        "| `dropoff_longitude` | `float` | the longitude where the meter was disengaged|\n",
        "| `dropoff_latitude` | `float` | the latitude where the meter was disengaged|\n",
        "| `passenger_count` | `float` | the number of passengers in the vehicle (driver entered value)|\n",
        "| `fare_amount` | `int` | the cost of each trip in USD, (**our target**)|"
      ]
    },
    {
      "cell_type": "markdown",
      "metadata": {
        "id": "VPfdLquFzsoI"
      },
      "source": [
        "## Modeling Workflow\n",
        "---"
      ]
    },
    {
      "cell_type": "markdown",
      "metadata": {
        "id": "wBa9dq-Rsxak"
      },
      "source": [
        "```\n",
        "1. Import data to Python\n",
        "2. Data Preprocessing\n",
        "3. Training a Machine Learning Models\n",
        "4. Test Prediction\n",
        "```"
      ]
    },
    {
      "cell_type": "markdown",
      "metadata": {
        "id": "x_OE7Mklz1Ci"
      },
      "source": [
        "### 1. Import data to Python (10 pts)\n",
        "---"
      ]
    },
    {
      "cell_type": "code",
      "execution_count": 358,
      "metadata": {},
      "outputs": [
        {
          "name": "stdout",
          "output_type": "stream",
          "text": [
            "Python 3.11.6\n"
          ]
        }
      ],
      "source": [
        "!python3 --version\n"
      ]
    },
    {
      "cell_type": "code",
      "execution_count": 359,
      "metadata": {},
      "outputs": [
        {
          "name": "stdout",
          "output_type": "stream",
          "text": [
            "Defaulting to user installation because normal site-packages is not writeable\n",
            "Requirement already satisfied: pandas in /Users/candra.kurniawan/Library/Python/3.11/lib/python/site-packages (2.2.0)\n"
          ]
        },
        {
          "name": "stdout",
          "output_type": "stream",
          "text": [
            "Requirement already satisfied: numpy<2,>=1.23.2 in /Users/candra.kurniawan/Library/Python/3.11/lib/python/site-packages (from pandas) (1.26.3)\n",
            "Requirement already satisfied: python-dateutil>=2.8.2 in /Users/candra.kurniawan/Library/Python/3.11/lib/python/site-packages (from pandas) (2.8.2)\n",
            "Requirement already satisfied: pytz>=2020.1 in /Users/candra.kurniawan/Library/Python/3.11/lib/python/site-packages (from pandas) (2023.3.post1)\n",
            "Requirement already satisfied: tzdata>=2022.7 in /Users/candra.kurniawan/Library/Python/3.11/lib/python/site-packages (from pandas) (2023.4)\n",
            "Requirement already satisfied: six>=1.5 in /Users/candra.kurniawan/Library/Python/3.11/lib/python/site-packages (from python-dateutil>=2.8.2->pandas) (1.16.0)\n",
            "\n",
            "\u001b[1m[\u001b[0m\u001b[34;49mnotice\u001b[0m\u001b[1;39;49m]\u001b[0m\u001b[39;49m A new release of pip is available: \u001b[0m\u001b[31;49m23.2.1\u001b[0m\u001b[39;49m -> \u001b[0m\u001b[32;49m23.3.2\u001b[0m\n",
            "\u001b[1m[\u001b[0m\u001b[34;49mnotice\u001b[0m\u001b[1;39;49m]\u001b[0m\u001b[39;49m To update, run: \u001b[0m\u001b[32;49mpython3.11 -m pip install --upgrade pip\u001b[0m\n"
          ]
        }
      ],
      "source": [
        "!pip3 install -U pandas\n"
      ]
    },
    {
      "cell_type": "code",
      "execution_count": 360,
      "metadata": {
        "id": "4r6Yb-EssUkX"
      },
      "outputs": [],
      "source": [
        "####################################################\n",
        "# Import Numpy and Pandas library\n",
        "# Write your code here\n",
        "####################################################\n",
        "import numpy as np\n",
        "import pandas as pd\n",
        "\n",
        "# Import train-test splitting library dari sklearn (scikit learn)\n",
        "from sklearn.model_selection import train_test_split\n",
        "\n",
        "# import library dari gcollab agar table nya \"that renders pandas dataframes into interactive displays\"\n",
        "#from google.colab import data_table\n",
        "#data_table.enable_dataframe_formatter()\n",
        "\n",
        "#from google.colab import drive\n",
        "#drive.mount('/content/drive')"
      ]
    },
    {
      "cell_type": "code",
      "execution_count": 361,
      "metadata": {
        "id": "773jxJ0P0IAq"
      },
      "outputs": [],
      "source": [
        "####################################################\n",
        "# Create a function named read_data\n",
        "# - Has an input of filename, i.e. fname\n",
        "# - Read the data as a Pandas DataFrame\n",
        "# - Drop duplicate on `order_id`, keep the last ones\n",
        "# - Set `order_id` as index\n",
        "# - Print the data shape\n",
        "# - Return the dataset\n",
        "# Write your code here\n",
        "####################################################\n",
        "\n",
        "\n",
        "# Membuat function import_data untuk memasukkan file-file dataset\n",
        "def read_data(fname):\n",
        "    try:\n",
        "\n",
        "        read_data.df_raw = []\n",
        "        read_data.check_dup_data = 0\n",
        "\n",
        "        # mencari file dengan kata belakang .xlsx\n",
        "        if fname.endswith('.xlsx'):\n",
        "            df = pd.read_excel(fname)\n",
        "\n",
        "        # mencari file dengan kata belakang .csv\n",
        "        elif fname.endswith('.csv'):\n",
        "            df = pd.read_csv(fname, sep = ',')\n",
        "\n",
        "        # jika tidak ada file xlsx dan csv maka akan Raise Error\n",
        "        else:\n",
        "           raise ValueError(f\"File tidak ditemukan {fname} harus berbentuk .xlsx atau .csv\")\n",
        "\n",
        "        # simpan utk dipakai print raw shape nanti next\n",
        "        #df_shape_raw = df.shape\n",
        "        read_data.df_raw.append(df.shape)\n",
        "\n",
        "        # Check duplikat data pada col order_id\n",
        "        read_data.check_dup_data = df[df.duplicated('order_id')].sum()\n",
        "\n",
        "        # Drop duplikat data pada kolom 'order_id', dengan parameter keep 'last'\n",
        "        clean_df = df.drop_duplicates(subset='order_id', keep='last')\n",
        "\n",
        "        # Set 'order_id' sebagai index\n",
        "        clean_df.set_index('order_id', inplace=True)\n",
        "\n",
        "        return clean_df\n",
        "\n",
        "    except Exception as e:\n",
        "        print(f\"Terdapat error ketika ...: {str(e)}\")\n",
        "        return None"
      ]
    },
    {
      "cell_type": "code",
      "execution_count": 362,
      "metadata": {
        "id": "TFRDR1I-1aDe"
      },
      "outputs": [],
      "source": [
        "# Read the Uber data (JUST RUN THE CODE)\n",
        "data = read_data(fname='uber_edit.csv')"
      ]
    },
    {
      "cell_type": "code",
      "execution_count": 363,
      "metadata": {
        "colab": {
          "base_uri": "https://localhost:8080/",
          "height": 551
        },
        "id": "vxMlEKQBGv-F",
        "outputId": "8afb6b5f-50d0-4e50-caf0-ae814fb412bc"
      },
      "outputs": [
        {
          "name": "stdout",
          "output_type": "stream",
          "text": [
            "Data shape raw :  [(194814, 8)]\n",
            "Number of duplicate order_id : order_id               0\n",
            "fare_amount          0.0\n",
            "pickup_time            0\n",
            "pickup_longitude     0.0\n",
            "pickup_latitude      0.0\n",
            "dropoff_longitude    0.0\n",
            "dropoff_latitude     0.0\n",
            "passenger_count      0.0\n",
            "dtype: object\n",
            "Data shape after dropping : (194814, 7)\n",
            "Data shape final : (194814, 7)\n"
          ]
        },
        {
          "data": {
            "text/html": [
              "<div>\n",
              "<style scoped>\n",
              "    .dataframe tbody tr th:only-of-type {\n",
              "        vertical-align: middle;\n",
              "    }\n",
              "\n",
              "    .dataframe tbody tr th {\n",
              "        vertical-align: top;\n",
              "    }\n",
              "\n",
              "    .dataframe thead th {\n",
              "        text-align: right;\n",
              "    }\n",
              "</style>\n",
              "<table border=\"1\" class=\"dataframe\">\n",
              "  <thead>\n",
              "    <tr style=\"text-align: right;\">\n",
              "      <th></th>\n",
              "      <th>fare_amount</th>\n",
              "      <th>pickup_time</th>\n",
              "      <th>pickup_longitude</th>\n",
              "      <th>pickup_latitude</th>\n",
              "      <th>dropoff_longitude</th>\n",
              "      <th>dropoff_latitude</th>\n",
              "      <th>passenger_count</th>\n",
              "    </tr>\n",
              "    <tr>\n",
              "      <th>order_id</th>\n",
              "      <th></th>\n",
              "      <th></th>\n",
              "      <th></th>\n",
              "      <th></th>\n",
              "      <th></th>\n",
              "      <th></th>\n",
              "      <th></th>\n",
              "    </tr>\n",
              "  </thead>\n",
              "  <tbody>\n",
              "    <tr>\n",
              "      <th>24238194</th>\n",
              "      <td>7.5</td>\n",
              "      <td>16-22</td>\n",
              "      <td>-73.999817</td>\n",
              "      <td>40.738354</td>\n",
              "      <td>-73.999512</td>\n",
              "      <td>40.723217</td>\n",
              "      <td>1.0</td>\n",
              "    </tr>\n",
              "    <tr>\n",
              "      <th>27835199</th>\n",
              "      <td>7.7</td>\n",
              "      <td>16-22</td>\n",
              "      <td>-73.994355</td>\n",
              "      <td>40.728225</td>\n",
              "      <td>-73.994710</td>\n",
              "      <td>40.750325</td>\n",
              "      <td>1.0</td>\n",
              "    </tr>\n",
              "    <tr>\n",
              "      <th>44984355</th>\n",
              "      <td>12.9</td>\n",
              "      <td>16-22</td>\n",
              "      <td>-74.005043</td>\n",
              "      <td>40.740770</td>\n",
              "      <td>-73.962565</td>\n",
              "      <td>40.772647</td>\n",
              "      <td>1.0</td>\n",
              "    </tr>\n",
              "    <tr>\n",
              "      <th>25894730</th>\n",
              "      <td>5.3</td>\n",
              "      <td>04-10</td>\n",
              "      <td>-73.976124</td>\n",
              "      <td>40.790844</td>\n",
              "      <td>-73.965316</td>\n",
              "      <td>40.803349</td>\n",
              "      <td>3.0</td>\n",
              "    </tr>\n",
              "    <tr>\n",
              "      <th>17610152</th>\n",
              "      <td>16.0</td>\n",
              "      <td>16-22</td>\n",
              "      <td>-73.925023</td>\n",
              "      <td>40.744085</td>\n",
              "      <td>-73.973082</td>\n",
              "      <td>40.761247</td>\n",
              "      <td>5.0</td>\n",
              "    </tr>\n",
              "    <tr>\n",
              "      <th>44470845</th>\n",
              "      <td>4.9</td>\n",
              "      <td>22-04</td>\n",
              "      <td>-73.969019</td>\n",
              "      <td>40.755910</td>\n",
              "      <td>-73.969019</td>\n",
              "      <td>40.755910</td>\n",
              "      <td>1.0</td>\n",
              "    </tr>\n",
              "    <tr>\n",
              "      <th>48725865</th>\n",
              "      <td>24.5</td>\n",
              "      <td>04-10</td>\n",
              "      <td>-73.961447</td>\n",
              "      <td>40.693965</td>\n",
              "      <td>-73.871195</td>\n",
              "      <td>40.774297</td>\n",
              "      <td>5.0</td>\n",
              "    </tr>\n",
              "    <tr>\n",
              "      <th>15822268</th>\n",
              "      <td>9.7</td>\n",
              "      <td>04-10</td>\n",
              "      <td>-73.975187</td>\n",
              "      <td>40.745767</td>\n",
              "      <td>-74.002720</td>\n",
              "      <td>40.743537</td>\n",
              "      <td>1.0</td>\n",
              "    </tr>\n",
              "    <tr>\n",
              "      <th>50611056</th>\n",
              "      <td>12.5</td>\n",
              "      <td>16-22</td>\n",
              "      <td>-74.001065</td>\n",
              "      <td>40.741787</td>\n",
              "      <td>-73.963040</td>\n",
              "      <td>40.775012</td>\n",
              "      <td>1.0</td>\n",
              "    </tr>\n",
              "    <tr>\n",
              "      <th>2205147</th>\n",
              "      <td>6.5</td>\n",
              "      <td>16-22</td>\n",
              "      <td>-73.974388</td>\n",
              "      <td>40.746952</td>\n",
              "      <td>-73.988586</td>\n",
              "      <td>40.729805</td>\n",
              "      <td>1.0</td>\n",
              "    </tr>\n",
              "  </tbody>\n",
              "</table>\n",
              "</div>"
            ],
            "text/plain": [
              "          fare_amount pickup_time  pickup_longitude  pickup_latitude  \\\n",
              "order_id                                                               \n",
              "24238194          7.5       16-22        -73.999817        40.738354   \n",
              "27835199          7.7       16-22        -73.994355        40.728225   \n",
              "44984355         12.9       16-22        -74.005043        40.740770   \n",
              "25894730          5.3       04-10        -73.976124        40.790844   \n",
              "17610152         16.0       16-22        -73.925023        40.744085   \n",
              "44470845          4.9       22-04        -73.969019        40.755910   \n",
              "48725865         24.5       04-10        -73.961447        40.693965   \n",
              "15822268          9.7       04-10        -73.975187        40.745767   \n",
              "50611056         12.5       16-22        -74.001065        40.741787   \n",
              "2205147           6.5       16-22        -73.974388        40.746952   \n",
              "\n",
              "          dropoff_longitude  dropoff_latitude  passenger_count  \n",
              "order_id                                                        \n",
              "24238194         -73.999512         40.723217              1.0  \n",
              "27835199         -73.994710         40.750325              1.0  \n",
              "44984355         -73.962565         40.772647              1.0  \n",
              "25894730         -73.965316         40.803349              3.0  \n",
              "17610152         -73.973082         40.761247              5.0  \n",
              "44470845         -73.969019         40.755910              1.0  \n",
              "48725865         -73.871195         40.774297              5.0  \n",
              "15822268         -74.002720         40.743537              1.0  \n",
              "50611056         -73.963040         40.775012              1.0  \n",
              "2205147          -73.988586         40.729805              1.0  "
            ]
          },
          "execution_count": 363,
          "metadata": {},
          "output_type": "execute_result"
        }
      ],
      "source": [
        "## Read the Uber data JUST RUN THE CODE\n",
        "#duplicate_orderid = data.duplicated('order_id').sum()\n",
        "#num_duplicates = duplicate_orderid.sum()\n",
        "\n",
        "print(f\"Data shape raw :  {read_data.df_raw}\")\n",
        "print(f\"Number of duplicate order_id : {read_data.check_dup_data}\")\n",
        "print(f\"Data shape after dropping : {data.shape}\")\n",
        "print(f\"Data shape final : {data.shape}\")\n",
        "\n",
        "data.head(10)"
      ]
    },
    {
      "cell_type": "markdown",
      "metadata": {
        "id": "2OzWPGFk3iwl"
      },
      "source": [
        "### 2. Data Preprocessing (60 pts)\n",
        "---"
      ]
    },
    {
      "cell_type": "markdown",
      "metadata": {
        "id": "XP-LVEz8MmLe"
      },
      "source": [
        "**The processing pipeline**\n",
        "```\n",
        "2.1 Input-Output Split\n",
        "2.2 Train-Valid-Test Split\n",
        "2.3 Separate Numerical and Categorical Features\n",
        "2.4 Numerical Imputation\n",
        "2.5 Categorical Imputation\n",
        "2.6 Preprocess Categorical Features\n",
        "2.7 Join the Data\n",
        "2.8 Feature Engineering the Data\n",
        "2.9 Create a Preprocessing Function\n",
        "```"
      ]
    },
    {
      "cell_type": "markdown",
      "metadata": {
        "id": "MPzQ-1Wz3lgP"
      },
      "source": [
        "#### 2.1. Input-Output Split (6 pts)\n",
        "---"
      ]
    },
    {
      "cell_type": "markdown",
      "metadata": {
        "id": "d0eNiv8J3ogi"
      },
      "source": [
        "- We're going to split input & output according to the modeling objective.\n",
        "- Create a function to split the input & output"
      ]
    },
    {
      "cell_type": "code",
      "execution_count": 364,
      "metadata": {
        "id": "7JLABNi-3ktA"
      },
      "outputs": [],
      "source": [
        "####################################################\n",
        "# Create a function named split_input_output\n",
        "# - Has two arguments\n",
        "#   - data, a pd Dataframe\n",
        "#   - target_col, a column (str)\n",
        "# - Print the data shape after splitting\n",
        "# - Return X, y\n",
        "# Write your code here\n",
        "####################################################\n",
        "\n",
        "def split_input_output(data, target_col):\n",
        "    \"\"\"\n",
        "    This is a function for splitting data\n",
        "    - Has two arguments\n",
        "      data, a pd Dataframe\n",
        "      target_col, a column (str)\n",
        "    - Print the data shape after splitting\n",
        "    - Return X, y\n",
        "\n",
        "    Candra Kurniawan , Pacmann AI\n",
        "    \"\"\"\n",
        "    try:\n",
        "        # Memastikan target_column yang ingin di jadikan data input dan output ada\n",
        "        if target_col not in data.columns:\n",
        "            raise ValueError(f\"The specified target column '{target_col}' is not present in the DataFrame.  \")\n",
        "\n",
        "        # Splitting the data into input (X) and output (y)\n",
        "        X = data.drop(target_col, axis = 1)\n",
        "        y = data[target_col]\n",
        "\n",
        "        # Print the shape of the data after splitting\n",
        "        print(f\"X shape: {X.shape}\")\n",
        "        print(f\"y shape: {y.shape}\")\n",
        "\n",
        "        return X, y\n",
        "\n",
        "\n",
        "    except Exception as e:\n",
        "        print(f\"Error in split_input_output function: {str(e)}\")\n",
        "        return None, None\n"
      ]
    },
    {
      "cell_type": "code",
      "execution_count": 365,
      "metadata": {
        "colab": {
          "base_uri": "https://localhost:8080/"
        },
        "id": "oN8Kuzkf4hgN",
        "outputId": "1d8bd9eb-59b8-49d8-da76-df8effca51a2"
      },
      "outputs": [
        {
          "name": "stdout",
          "output_type": "stream",
          "text": [
            "X shape: (194814, 6)\n",
            "y shape: (194814,)\n"
          ]
        }
      ],
      "source": [
        "# Load the train data only (JUST RUN THE CODE)\n",
        "X, y = split_input_output(data=data,\n",
        "                          target_col='fare_amount')"
      ]
    },
    {
      "cell_type": "code",
      "execution_count": 366,
      "metadata": {
        "colab": {
          "base_uri": "https://localhost:8080/",
          "height": 229
        },
        "id": "ScJnHQsZ45Lf",
        "outputId": "5d9475ad-abb3-4ce6-b0c6-06667ece8f77"
      },
      "outputs": [
        {
          "data": {
            "text/html": [
              "<div>\n",
              "<style scoped>\n",
              "    .dataframe tbody tr th:only-of-type {\n",
              "        vertical-align: middle;\n",
              "    }\n",
              "\n",
              "    .dataframe tbody tr th {\n",
              "        vertical-align: top;\n",
              "    }\n",
              "\n",
              "    .dataframe thead th {\n",
              "        text-align: right;\n",
              "    }\n",
              "</style>\n",
              "<table border=\"1\" class=\"dataframe\">\n",
              "  <thead>\n",
              "    <tr style=\"text-align: right;\">\n",
              "      <th></th>\n",
              "      <th>pickup_time</th>\n",
              "      <th>pickup_longitude</th>\n",
              "      <th>pickup_latitude</th>\n",
              "      <th>dropoff_longitude</th>\n",
              "      <th>dropoff_latitude</th>\n",
              "      <th>passenger_count</th>\n",
              "    </tr>\n",
              "    <tr>\n",
              "      <th>order_id</th>\n",
              "      <th></th>\n",
              "      <th></th>\n",
              "      <th></th>\n",
              "      <th></th>\n",
              "      <th></th>\n",
              "      <th></th>\n",
              "    </tr>\n",
              "  </thead>\n",
              "  <tbody>\n",
              "    <tr>\n",
              "      <th>24238194</th>\n",
              "      <td>16-22</td>\n",
              "      <td>-73.999817</td>\n",
              "      <td>40.738354</td>\n",
              "      <td>-73.999512</td>\n",
              "      <td>40.723217</td>\n",
              "      <td>1.0</td>\n",
              "    </tr>\n",
              "    <tr>\n",
              "      <th>27835199</th>\n",
              "      <td>16-22</td>\n",
              "      <td>-73.994355</td>\n",
              "      <td>40.728225</td>\n",
              "      <td>-73.994710</td>\n",
              "      <td>40.750325</td>\n",
              "      <td>1.0</td>\n",
              "    </tr>\n",
              "    <tr>\n",
              "      <th>44984355</th>\n",
              "      <td>16-22</td>\n",
              "      <td>-74.005043</td>\n",
              "      <td>40.740770</td>\n",
              "      <td>-73.962565</td>\n",
              "      <td>40.772647</td>\n",
              "      <td>1.0</td>\n",
              "    </tr>\n",
              "    <tr>\n",
              "      <th>25894730</th>\n",
              "      <td>04-10</td>\n",
              "      <td>-73.976124</td>\n",
              "      <td>40.790844</td>\n",
              "      <td>-73.965316</td>\n",
              "      <td>40.803349</td>\n",
              "      <td>3.0</td>\n",
              "    </tr>\n",
              "    <tr>\n",
              "      <th>17610152</th>\n",
              "      <td>16-22</td>\n",
              "      <td>-73.925023</td>\n",
              "      <td>40.744085</td>\n",
              "      <td>-73.973082</td>\n",
              "      <td>40.761247</td>\n",
              "      <td>5.0</td>\n",
              "    </tr>\n",
              "  </tbody>\n",
              "</table>\n",
              "</div>"
            ],
            "text/plain": [
              "         pickup_time  pickup_longitude  pickup_latitude  dropoff_longitude  \\\n",
              "order_id                                                                     \n",
              "24238194       16-22        -73.999817        40.738354         -73.999512   \n",
              "27835199       16-22        -73.994355        40.728225         -73.994710   \n",
              "44984355       16-22        -74.005043        40.740770         -73.962565   \n",
              "25894730       04-10        -73.976124        40.790844         -73.965316   \n",
              "17610152       16-22        -73.925023        40.744085         -73.973082   \n",
              "\n",
              "          dropoff_latitude  passenger_count  \n",
              "order_id                                     \n",
              "24238194         40.723217              1.0  \n",
              "27835199         40.750325              1.0  \n",
              "44984355         40.772647              1.0  \n",
              "25894730         40.803349              3.0  \n",
              "17610152         40.761247              5.0  "
            ]
          },
          "execution_count": 366,
          "metadata": {},
          "output_type": "execute_result"
        }
      ],
      "source": [
        "X.head()  # (JUST RUN THE CODE)"
      ]
    },
    {
      "cell_type": "code",
      "execution_count": 367,
      "metadata": {
        "colab": {
          "base_uri": "https://localhost:8080/"
        },
        "id": "hvvwO3A547u1",
        "outputId": "8a1c656c-07f8-4618-c3ab-2841b7e186a9"
      },
      "outputs": [
        {
          "data": {
            "text/plain": [
              "order_id\n",
              "24238194     7.5\n",
              "27835199     7.7\n",
              "44984355    12.9\n",
              "25894730     5.3\n",
              "17610152    16.0\n",
              "Name: fare_amount, dtype: float64"
            ]
          },
          "execution_count": 367,
          "metadata": {},
          "output_type": "execute_result"
        }
      ],
      "source": [
        "y.head()  # (JUST RUN THE CODE)"
      ]
    },
    {
      "cell_type": "markdown",
      "metadata": {
        "id": "zO3YDDwc5qQ-"
      },
      "source": [
        "#### 2.2. Train-Valid-Test Split (6 pts)\n",
        "---"
      ]
    },
    {
      "cell_type": "markdown",
      "metadata": {
        "id": "kFA5PsKQ5qRN"
      },
      "source": [
        "- Now, we want to split the data before modeling.\n",
        "- Split the data into three set:\n",
        "  - Train, for training the model\n",
        "  - Validation, for choosing the best model\n",
        "  - Test, for error generalization\n",
        "\n",
        "- You should make the splitting proportion train (80%), valid (10%), and test (10%)"
      ]
    },
    {
      "cell_type": "code",
      "execution_count": 368,
      "metadata": {
        "id": "5LTodPoF5qRN"
      },
      "outputs": [],
      "source": [
        "####################################################\n",
        "# Create a function named split_train_test\n",
        "# - Has two arguments\n",
        "#   - X, the input (pd.Dataframe)\n",
        "#   - y, the output (pd.Dataframe)\n",
        "#   - test_size, the test size between 0-1 (float)\n",
        "#   - seed, the random state (int)\n",
        "# - Print the data shape after splitting\n",
        "# - Return X_train, X_test, y_train, y_test\n",
        "# - You can use an sklearn library to help you\n",
        "# Write your code here\n",
        "####################################################\n",
        "\n",
        "# Import train-test splitting library dari sklearn (scikit learn)\n",
        "from sklearn.model_selection import train_test_split\n",
        "\n",
        "def split_train_test(X, y, test_size = 0.1, seed = None):\n",
        "    \"\"\"\n",
        "    This is a function for splitting to training data, validatating data, & test data\n",
        "    #   - Has Four arguments\n",
        "    #   - X, the input (pd.Dataframe)\n",
        "    #   - y, the output (pd.Dataframe)\n",
        "    #   - test_size, the test size between 0-1 (float)\n",
        "    #   - seed, the random state (int)\n",
        "\n",
        "    Candra Kurniawan , Pacmann AI\n",
        "    \"\"\"\n",
        "    try:\n",
        "      # Split the data into train and test sets\n",
        "      X_train, X_test, y_train, y_test = train_test_split(X, y, test_size=test_size, random_state=seed)\n",
        "      \n",
        "      return X_train, X_test, y_train, y_test\n",
        "\n",
        "    except Exception as e:\n",
        "      print(f\"Error in split_train_test function: {str(e)}\")\n",
        "\n",
        "      return None, None, None, None"
      ]
    },
    {
      "cell_type": "code",
      "execution_count": 369,
      "metadata": {
        "colab": {
          "base_uri": "https://localhost:8080/"
        },
        "id": "1F6TPylm49KB",
        "outputId": "233d8aad-0e03-4ee7-f68c-b5465f98b6e9"
      },
      "outputs": [
        {
          "name": "stdout",
          "output_type": "stream",
          "text": [
            "X train shape: (155851, 6)\n",
            "y train shape: (155851,)\n",
            "X test shape: (38963, 6)\n",
            "y test shape: (38963,)\n",
            "\n",
            "X valid shape: (19481, 6)\n",
            "y valid shape: (19481,)\n",
            "X test shape: (19482, 6)\n",
            "y test shape: (19482,)\n"
          ]
        }
      ],
      "source": [
        "# Split the data\n",
        "# First, split the train & not train\n",
        "X_train, X_not_train, y_train, y_not_train = split_train_test(X, y, test_size=0.2, seed=123)\n",
        "\n",
        "# Then, split the valid & test\n",
        "X_valid, X_test, y_valid, y_test = split_train_test(X_not_train, y_not_train, test_size = 0.5, seed = 123)\n",
        "\n",
        "\n",
        "print(f\"X train shape: {X_train.shape}\")\n",
        "print(f\"y train shape: {y_train.shape}\")\n",
        "print(f\"X test shape: {X_not_train.shape}\")\n",
        "print(f\"y test shape: {y_not_train.shape}\")\n",
        "print('')\n",
        "print(f\"X valid shape: {X_valid.shape}\")\n",
        "print(f\"y valid shape: {y_valid.shape}\")\n",
        "print(f\"X test shape: {X_test.shape}\")\n",
        "print(f\"y test shape: {y_test.shape}\")"
      ]
    },
    {
      "cell_type": "code",
      "execution_count": 370,
      "metadata": {
        "colab": {
          "base_uri": "https://localhost:8080/"
        },
        "id": "4gTzpb627pJB",
        "outputId": "8f275e0a-c2cf-4241-c053-272f4d68897d"
      },
      "outputs": [
        {
          "name": "stdout",
          "output_type": "stream",
          "text": [
            "0.7999989733797366\n",
            "0.09999794675947314\n",
            "0.1000030798607903\n"
          ]
        }
      ],
      "source": [
        "# Validate (JUST RUN THE CODE)\n",
        "print(len(X_train)/len(X))  # should be 0.8\n",
        "print(len(X_valid)/len(X))  # should be 0.1\n",
        "print(len(X_test)/len(X))   # should be 0.1"
      ]
    },
    {
      "cell_type": "code",
      "execution_count": 371,
      "metadata": {
        "colab": {
          "base_uri": "https://localhost:8080/",
          "height": 229
        },
        "id": "E6GgKZ5Z-d-A",
        "outputId": "f8750963-f39e-4e1e-ee7b-9c41b1e19b53"
      },
      "outputs": [
        {
          "data": {
            "text/html": [
              "<div>\n",
              "<style scoped>\n",
              "    .dataframe tbody tr th:only-of-type {\n",
              "        vertical-align: middle;\n",
              "    }\n",
              "\n",
              "    .dataframe tbody tr th {\n",
              "        vertical-align: top;\n",
              "    }\n",
              "\n",
              "    .dataframe thead th {\n",
              "        text-align: right;\n",
              "    }\n",
              "</style>\n",
              "<table border=\"1\" class=\"dataframe\">\n",
              "  <thead>\n",
              "    <tr style=\"text-align: right;\">\n",
              "      <th></th>\n",
              "      <th>pickup_time</th>\n",
              "      <th>pickup_longitude</th>\n",
              "      <th>pickup_latitude</th>\n",
              "      <th>dropoff_longitude</th>\n",
              "      <th>dropoff_latitude</th>\n",
              "      <th>passenger_count</th>\n",
              "    </tr>\n",
              "    <tr>\n",
              "      <th>order_id</th>\n",
              "      <th></th>\n",
              "      <th></th>\n",
              "      <th></th>\n",
              "      <th></th>\n",
              "      <th></th>\n",
              "      <th></th>\n",
              "    </tr>\n",
              "  </thead>\n",
              "  <tbody>\n",
              "    <tr>\n",
              "      <th>51655713</th>\n",
              "      <td>16-22</td>\n",
              "      <td>-73.979392</td>\n",
              "      <td>40.735734</td>\n",
              "      <td>-73.906281</td>\n",
              "      <td>40.745539</td>\n",
              "      <td>2.0</td>\n",
              "    </tr>\n",
              "    <tr>\n",
              "      <th>37525839</th>\n",
              "      <td>16-22</td>\n",
              "      <td>-73.986575</td>\n",
              "      <td>40.761473</td>\n",
              "      <td>-73.981880</td>\n",
              "      <td>40.768660</td>\n",
              "      <td>5.0</td>\n",
              "    </tr>\n",
              "    <tr>\n",
              "      <th>55058970</th>\n",
              "      <td>16-22</td>\n",
              "      <td>-73.972533</td>\n",
              "      <td>40.782260</td>\n",
              "      <td>-73.952761</td>\n",
              "      <td>40.708980</td>\n",
              "      <td>1.0</td>\n",
              "    </tr>\n",
              "    <tr>\n",
              "      <th>15663447</th>\n",
              "      <td>10-16</td>\n",
              "      <td>-73.979967</td>\n",
              "      <td>40.751612</td>\n",
              "      <td>-73.976313</td>\n",
              "      <td>40.758427</td>\n",
              "      <td>6.0</td>\n",
              "    </tr>\n",
              "    <tr>\n",
              "      <th>13325650</th>\n",
              "      <td>16-22</td>\n",
              "      <td>-73.976192</td>\n",
              "      <td>40.744026</td>\n",
              "      <td>-73.980935</td>\n",
              "      <td>40.733946</td>\n",
              "      <td>1.0</td>\n",
              "    </tr>\n",
              "  </tbody>\n",
              "</table>\n",
              "</div>"
            ],
            "text/plain": [
              "         pickup_time  pickup_longitude  pickup_latitude  dropoff_longitude  \\\n",
              "order_id                                                                     \n",
              "51655713       16-22        -73.979392        40.735734         -73.906281   \n",
              "37525839       16-22        -73.986575        40.761473         -73.981880   \n",
              "55058970       16-22        -73.972533        40.782260         -73.952761   \n",
              "15663447       10-16        -73.979967        40.751612         -73.976313   \n",
              "13325650       16-22        -73.976192        40.744026         -73.980935   \n",
              "\n",
              "          dropoff_latitude  passenger_count  \n",
              "order_id                                     \n",
              "51655713         40.745539              2.0  \n",
              "37525839         40.768660              5.0  \n",
              "55058970         40.708980              1.0  \n",
              "15663447         40.758427              6.0  \n",
              "13325650         40.733946              1.0  "
            ]
          },
          "execution_count": 371,
          "metadata": {},
          "output_type": "execute_result"
        }
      ],
      "source": [
        "X_train.head()  # (JUST RUN THE CODE)"
      ]
    },
    {
      "cell_type": "markdown",
      "metadata": {
        "id": "wZ5rwYBA88lQ"
      },
      "source": [
        "#### 2.3. Separate Numerical and Categorical Features (6 pts)\n",
        "---"
      ]
    },
    {
      "cell_type": "markdown",
      "metadata": {
        "id": "JaRGC1IJ88lU"
      },
      "source": [
        "- We now prepare to perform data preprocessing\n",
        "- But, we first separate the data into numerical data & categorical data."
      ]
    },
    {
      "cell_type": "code",
      "execution_count": 372,
      "metadata": {
        "id": "BTNHnHRi899V"
      },
      "outputs": [],
      "source": [
        "####################################################\n",
        "# Create a function to split numerical & categorical input\n",
        "# - you have three parameters\n",
        "#   - data, an input data (pd. Dataframe)\n",
        "#   - num_cols, a list of numerical columns (list)\n",
        "#   - cat_cols, a list of categorical columns (list)\n",
        "# - and write a validation that you perform right operation\n",
        "# - and return two dataframe, numerical & categorical data\n",
        "# Write your code here\n",
        "####################################################\n",
        "\n",
        "def split_column_numcat(data, num_cols, cat_cols):\n",
        "      \"\"\"\n",
        "      This is a function for splitting the Training data column into\n",
        "      Numerical and Categorical column :\n",
        "\n",
        "      # Create a function to split numerical & categorical input\n",
        "      # - you have three parameters\n",
        "      #   - data, an input data (pd. Dataframe)\n",
        "      #   - num_cols, a list of numerical columns (list)\n",
        "      #   - cat_cols, a list of categorical columns (list)\n",
        "      # - and write a validation that you perform right operation\n",
        "      # - and return two dataframe, numerical & categorical data\n",
        "\n",
        "      Candra Kurniawan , Pacmann AI\n",
        "      \"\"\"\n",
        "      try:\n",
        "\n",
        "          numerical_data = data[num_cols]\n",
        "          categorical_data = data[cat_cols]\n",
        "\n",
        "          print(f\"Data num shape : {numerical_data.shape}\")\n",
        "          print(f\"Data cat shape : {categorical_data.shape}\")\n",
        "\n",
        "          return numerical_data, categorical_data\n",
        "\n",
        "      except Exception as e:\n",
        "          print(f\"Error in split_train_test function: {str(e)}\")\n",
        "\n",
        "          return None, None\n"
      ]
    },
    {
      "cell_type": "code",
      "execution_count": 373,
      "metadata": {
        "id": "pPfVtAm7ARu9"
      },
      "outputs": [],
      "source": [
        "# Ambil daftar nama kolom Numerikal\n",
        "X_train_num_columns = ['pickup_longitude', 'pickup_latitude',\n",
        "       'dropoff_longitude', 'dropoff_latitude', 'passenger_count']\n",
        "\n",
        "\n",
        "# Ambil daftar nama kolom kategorikal\n",
        "# Anda bisa langsung menuliskannya atau mengambil list jika jumlahnya banyak\n",
        "X_train_column = list(X_train.columns)\n",
        "X_train_cat_columns = list(set(X_train_column).difference(set(X_train_num_columns)))"
      ]
    },
    {
      "cell_type": "code",
      "execution_count": 374,
      "metadata": {
        "colab": {
          "base_uri": "https://localhost:8080/"
        },
        "id": "kYkiongB-muK",
        "outputId": "bca402ea-2fc6-41a3-8527-b90d5d3e82c3"
      },
      "outputs": [
        {
          "name": "stdout",
          "output_type": "stream",
          "text": [
            "Data num shape : (155851, 5)\n",
            "Data cat shape : (155851, 1)\n"
          ]
        }
      ],
      "source": [
        "# Split the data\n",
        "X_train_num, X_train_cat = split_column_numcat(data = X_train, num_cols = X_train_num_columns, cat_cols = X_train_cat_columns)"
      ]
    },
    {
      "cell_type": "code",
      "execution_count": 375,
      "metadata": {
        "colab": {
          "base_uri": "https://localhost:8080/",
          "height": 229
        },
        "id": "6qd1II0a-0og",
        "outputId": "10d6b120-aae8-4ee5-8ec8-bd1e13da5159"
      },
      "outputs": [
        {
          "data": {
            "text/html": [
              "<div>\n",
              "<style scoped>\n",
              "    .dataframe tbody tr th:only-of-type {\n",
              "        vertical-align: middle;\n",
              "    }\n",
              "\n",
              "    .dataframe tbody tr th {\n",
              "        vertical-align: top;\n",
              "    }\n",
              "\n",
              "    .dataframe thead th {\n",
              "        text-align: right;\n",
              "    }\n",
              "</style>\n",
              "<table border=\"1\" class=\"dataframe\">\n",
              "  <thead>\n",
              "    <tr style=\"text-align: right;\">\n",
              "      <th></th>\n",
              "      <th>pickup_longitude</th>\n",
              "      <th>pickup_latitude</th>\n",
              "      <th>dropoff_longitude</th>\n",
              "      <th>dropoff_latitude</th>\n",
              "      <th>passenger_count</th>\n",
              "    </tr>\n",
              "    <tr>\n",
              "      <th>order_id</th>\n",
              "      <th></th>\n",
              "      <th></th>\n",
              "      <th></th>\n",
              "      <th></th>\n",
              "      <th></th>\n",
              "    </tr>\n",
              "  </thead>\n",
              "  <tbody>\n",
              "    <tr>\n",
              "      <th>51655713</th>\n",
              "      <td>-73.979392</td>\n",
              "      <td>40.735734</td>\n",
              "      <td>-73.906281</td>\n",
              "      <td>40.745539</td>\n",
              "      <td>2.0</td>\n",
              "    </tr>\n",
              "    <tr>\n",
              "      <th>37525839</th>\n",
              "      <td>-73.986575</td>\n",
              "      <td>40.761473</td>\n",
              "      <td>-73.981880</td>\n",
              "      <td>40.768660</td>\n",
              "      <td>5.0</td>\n",
              "    </tr>\n",
              "    <tr>\n",
              "      <th>55058970</th>\n",
              "      <td>-73.972533</td>\n",
              "      <td>40.782260</td>\n",
              "      <td>-73.952761</td>\n",
              "      <td>40.708980</td>\n",
              "      <td>1.0</td>\n",
              "    </tr>\n",
              "    <tr>\n",
              "      <th>15663447</th>\n",
              "      <td>-73.979967</td>\n",
              "      <td>40.751612</td>\n",
              "      <td>-73.976313</td>\n",
              "      <td>40.758427</td>\n",
              "      <td>6.0</td>\n",
              "    </tr>\n",
              "    <tr>\n",
              "      <th>13325650</th>\n",
              "      <td>-73.976192</td>\n",
              "      <td>40.744026</td>\n",
              "      <td>-73.980935</td>\n",
              "      <td>40.733946</td>\n",
              "      <td>1.0</td>\n",
              "    </tr>\n",
              "  </tbody>\n",
              "</table>\n",
              "</div>"
            ],
            "text/plain": [
              "          pickup_longitude  pickup_latitude  dropoff_longitude  \\\n",
              "order_id                                                         \n",
              "51655713        -73.979392        40.735734         -73.906281   \n",
              "37525839        -73.986575        40.761473         -73.981880   \n",
              "55058970        -73.972533        40.782260         -73.952761   \n",
              "15663447        -73.979967        40.751612         -73.976313   \n",
              "13325650        -73.976192        40.744026         -73.980935   \n",
              "\n",
              "          dropoff_latitude  passenger_count  \n",
              "order_id                                     \n",
              "51655713         40.745539              2.0  \n",
              "37525839         40.768660              5.0  \n",
              "55058970         40.708980              1.0  \n",
              "15663447         40.758427              6.0  \n",
              "13325650         40.733946              1.0  "
            ]
          },
          "execution_count": 375,
          "metadata": {},
          "output_type": "execute_result"
        }
      ],
      "source": [
        "X_train_num.head()  # (JUST RUN THE CODE)"
      ]
    },
    {
      "cell_type": "code",
      "execution_count": 376,
      "metadata": {
        "colab": {
          "base_uri": "https://localhost:8080/",
          "height": 229
        },
        "id": "E5A8MyYk_Jh7",
        "outputId": "592054ff-70c0-46cd-c0d8-e4ee70f9aadb"
      },
      "outputs": [
        {
          "data": {
            "text/html": [
              "<div>\n",
              "<style scoped>\n",
              "    .dataframe tbody tr th:only-of-type {\n",
              "        vertical-align: middle;\n",
              "    }\n",
              "\n",
              "    .dataframe tbody tr th {\n",
              "        vertical-align: top;\n",
              "    }\n",
              "\n",
              "    .dataframe thead th {\n",
              "        text-align: right;\n",
              "    }\n",
              "</style>\n",
              "<table border=\"1\" class=\"dataframe\">\n",
              "  <thead>\n",
              "    <tr style=\"text-align: right;\">\n",
              "      <th></th>\n",
              "      <th>pickup_time</th>\n",
              "    </tr>\n",
              "    <tr>\n",
              "      <th>order_id</th>\n",
              "      <th></th>\n",
              "    </tr>\n",
              "  </thead>\n",
              "  <tbody>\n",
              "    <tr>\n",
              "      <th>51655713</th>\n",
              "      <td>16-22</td>\n",
              "    </tr>\n",
              "    <tr>\n",
              "      <th>37525839</th>\n",
              "      <td>16-22</td>\n",
              "    </tr>\n",
              "    <tr>\n",
              "      <th>55058970</th>\n",
              "      <td>16-22</td>\n",
              "    </tr>\n",
              "    <tr>\n",
              "      <th>15663447</th>\n",
              "      <td>10-16</td>\n",
              "    </tr>\n",
              "    <tr>\n",
              "      <th>13325650</th>\n",
              "      <td>16-22</td>\n",
              "    </tr>\n",
              "  </tbody>\n",
              "</table>\n",
              "</div>"
            ],
            "text/plain": [
              "         pickup_time\n",
              "order_id            \n",
              "51655713       16-22\n",
              "37525839       16-22\n",
              "55058970       16-22\n",
              "15663447       10-16\n",
              "13325650       16-22"
            ]
          },
          "execution_count": 376,
          "metadata": {},
          "output_type": "execute_result"
        }
      ],
      "source": [
        "X_train_cat.head()  # (JUST RUN THE CODE)"
      ]
    },
    {
      "cell_type": "markdown",
      "metadata": {
        "id": "TSolzD9z_NOc"
      },
      "source": [
        "#### EDA before Preprocessing (JUST RUN THE CODE)\n",
        "---"
      ]
    },
    {
      "cell_type": "markdown",
      "metadata": {
        "id": "nt7Wtjmk_NOc"
      },
      "source": [
        "- Find the number of missing values"
      ]
    },
    {
      "cell_type": "code",
      "execution_count": 377,
      "metadata": {
        "colab": {
          "base_uri": "https://localhost:8080/"
        },
        "id": "9TN_UpNwAmUD",
        "outputId": "60c1e136-0656-478b-d3f1-77a7c26b7c7e"
      },
      "outputs": [
        {
          "data": {
            "text/plain": [
              "pickup_time          0.000000\n",
              "pickup_longitude     0.000000\n",
              "pickup_latitude      0.000000\n",
              "dropoff_longitude    0.000000\n",
              "dropoff_latitude     0.000000\n",
              "passenger_count      0.606348\n",
              "dtype: float64"
            ]
          },
          "execution_count": 377,
          "metadata": {},
          "output_type": "execute_result"
        }
      ],
      "source": [
        "100 * (X_train.isna().sum(0) / len(X_train))"
      ]
    },
    {
      "cell_type": "markdown",
      "metadata": {
        "id": "3CmEIM19Aqnr"
      },
      "source": [
        "- We will impute all these variables if there is any missing value"
      ]
    },
    {
      "cell_type": "markdown",
      "metadata": {
        "id": "MBVeQTSaDtdO"
      },
      "source": [
        "- First, check the numerical features distribution"
      ]
    },
    {
      "cell_type": "code",
      "execution_count": 378,
      "metadata": {
        "id": "cDPzHlriAFck"
      },
      "outputs": [],
      "source": [
        "import matplotlib.pyplot as plt\n",
        "import seaborn as sns\n",
        "%matplotlib inline"
      ]
    },
    {
      "cell_type": "code",
      "execution_count": 379,
      "metadata": {
        "colab": {
          "base_uri": "https://localhost:8080/",
          "height": 807
        },
        "id": "eOXpnmQc_NOc",
        "outputId": "729eb6f3-bdb5-480c-d103-17f4552e46f5"
      },
      "outputs": [
        {
          "data": {
            "image/png": "[encoded data removed]",
            "text/plain": [
              "<Figure size 1200x800 with 6 Axes>"
            ]
          },
          "metadata": {},
          "output_type": "display_data"
        }
      ],
      "source": [
        "# Plot histogram\n",
        "fig, ax = plt.subplots(nrows=3, ncols=2, figsize=(12, 8))\n",
        "axes = ax.flatten()\n",
        "\n",
        "for i, col in enumerate(X_train_num.columns):\n",
        "    sns.kdeplot(X_train_num[col], ax=axes[i])\n",
        "    axes[i].set_title(f'Distribution of {col}')\n",
        "\n",
        "plt.tight_layout()\n",
        "plt.show()"
      ]
    },
    {
      "cell_type": "markdown",
      "metadata": {
        "id": "CYreWROVFMos"
      },
      "source": [
        "- All the distribution are skewed, we can impute a missing value by its features median."
      ]
    },
    {
      "cell_type": "markdown",
      "metadata": {
        "id": "C7TnRAdkFWiT"
      },
      "source": [
        "- Next, explore the `pickup_time`"
      ]
    },
    {
      "cell_type": "code",
      "execution_count": 380,
      "metadata": {
        "colab": {
          "base_uri": "https://localhost:8080/"
        },
        "id": "p8c9PHjaFUrv",
        "outputId": "44a0cc33-8abc-4f75-b7b4-7ff0cdf5e2a3"
      },
      "outputs": [
        {
          "data": {
            "text/plain": [
              "pickup_time\n",
              "16-22    0.328160\n",
              "10-16    0.286376\n",
              "22-04    0.221648\n",
              "04-10    0.157599\n",
              "-        0.006217\n",
              "Name: proportion, dtype: float64"
            ]
          },
          "execution_count": 380,
          "metadata": {},
          "output_type": "execute_result"
        }
      ],
      "source": [
        "X_train['pickup_time'].value_counts(normalize=True)"
      ]
    },
    {
      "cell_type": "markdown",
      "metadata": {
        "id": "8bEMsSiSG6NZ"
      },
      "source": [
        "- There's a missing value with symbol `'-'` in `pickup_time`,\n",
        "- We can impute the missing value with `UNKNOWN`"
      ]
    },
    {
      "cell_type": "markdown",
      "metadata": {
        "id": "OX5MqqWjHEbg"
      },
      "source": [
        "- Explore the relation between `pickup_time` and `fare`"
      ]
    },
    {
      "cell_type": "code",
      "execution_count": 381,
      "metadata": {
        "colab": {
          "base_uri": "https://localhost:8080/",
          "height": 229
        },
        "id": "xqg-kjr-GvYf",
        "outputId": "6b86be7f-8880-4984-8048-529f50e87853"
      },
      "outputs": [
        {
          "data": {
            "text/html": [
              "<div>\n",
              "<style scoped>\n",
              "    .dataframe tbody tr th:only-of-type {\n",
              "        vertical-align: middle;\n",
              "    }\n",
              "\n",
              "    .dataframe tbody tr th {\n",
              "        vertical-align: top;\n",
              "    }\n",
              "\n",
              "    .dataframe thead th {\n",
              "        text-align: right;\n",
              "    }\n",
              "</style>\n",
              "<table border=\"1\" class=\"dataframe\">\n",
              "  <thead>\n",
              "    <tr style=\"text-align: right;\">\n",
              "      <th></th>\n",
              "      <th>pickup_time</th>\n",
              "      <th>pickup_longitude</th>\n",
              "      <th>pickup_latitude</th>\n",
              "      <th>dropoff_longitude</th>\n",
              "      <th>dropoff_latitude</th>\n",
              "      <th>passenger_count</th>\n",
              "      <th>fare_amount</th>\n",
              "    </tr>\n",
              "    <tr>\n",
              "      <th>order_id</th>\n",
              "      <th></th>\n",
              "      <th></th>\n",
              "      <th></th>\n",
              "      <th></th>\n",
              "      <th></th>\n",
              "      <th></th>\n",
              "      <th></th>\n",
              "    </tr>\n",
              "  </thead>\n",
              "  <tbody>\n",
              "    <tr>\n",
              "      <th>51655713</th>\n",
              "      <td>16-22</td>\n",
              "      <td>-73.979392</td>\n",
              "      <td>40.735734</td>\n",
              "      <td>-73.906281</td>\n",
              "      <td>40.745539</td>\n",
              "      <td>2.0</td>\n",
              "      <td>16.5</td>\n",
              "    </tr>\n",
              "    <tr>\n",
              "      <th>37525839</th>\n",
              "      <td>16-22</td>\n",
              "      <td>-73.986575</td>\n",
              "      <td>40.761473</td>\n",
              "      <td>-73.981880</td>\n",
              "      <td>40.768660</td>\n",
              "      <td>5.0</td>\n",
              "      <td>3.7</td>\n",
              "    </tr>\n",
              "    <tr>\n",
              "      <th>55058970</th>\n",
              "      <td>16-22</td>\n",
              "      <td>-73.972533</td>\n",
              "      <td>40.782260</td>\n",
              "      <td>-73.952761</td>\n",
              "      <td>40.708980</td>\n",
              "      <td>1.0</td>\n",
              "      <td>18.9</td>\n",
              "    </tr>\n",
              "    <tr>\n",
              "      <th>15663447</th>\n",
              "      <td>10-16</td>\n",
              "      <td>-73.979967</td>\n",
              "      <td>40.751612</td>\n",
              "      <td>-73.976313</td>\n",
              "      <td>40.758427</td>\n",
              "      <td>6.0</td>\n",
              "      <td>4.1</td>\n",
              "    </tr>\n",
              "    <tr>\n",
              "      <th>13325650</th>\n",
              "      <td>16-22</td>\n",
              "      <td>-73.976192</td>\n",
              "      <td>40.744026</td>\n",
              "      <td>-73.980935</td>\n",
              "      <td>40.733946</td>\n",
              "      <td>1.0</td>\n",
              "      <td>5.0</td>\n",
              "    </tr>\n",
              "  </tbody>\n",
              "</table>\n",
              "</div>"
            ],
            "text/plain": [
              "         pickup_time  pickup_longitude  pickup_latitude  dropoff_longitude  \\\n",
              "order_id                                                                     \n",
              "51655713       16-22        -73.979392        40.735734         -73.906281   \n",
              "37525839       16-22        -73.986575        40.761473         -73.981880   \n",
              "55058970       16-22        -73.972533        40.782260         -73.952761   \n",
              "15663447       10-16        -73.979967        40.751612         -73.976313   \n",
              "13325650       16-22        -73.976192        40.744026         -73.980935   \n",
              "\n",
              "          dropoff_latitude  passenger_count  fare_amount  \n",
              "order_id                                                  \n",
              "51655713         40.745539              2.0         16.5  \n",
              "37525839         40.768660              5.0          3.7  \n",
              "55058970         40.708980              1.0         18.9  \n",
              "15663447         40.758427              6.0          4.1  \n",
              "13325650         40.733946              1.0          5.0  "
            ]
          },
          "execution_count": 381,
          "metadata": {},
          "output_type": "execute_result"
        }
      ],
      "source": [
        "# Concat the data first\n",
        "train_data = pd.concat((X_train, y_train), axis=1)\n",
        "train_data.head()"
      ]
    },
    {
      "cell_type": "code",
      "execution_count": 382,
      "metadata": {
        "colab": {
          "base_uri": "https://localhost:8080/",
          "height": 450
        },
        "id": "e0xMJc-oHO8m",
        "outputId": "3a822bbd-4d15-4c07-8513-fb972ef08008"
      },
      "outputs": [
        {
          "name": "stderr",
          "output_type": "stream",
          "text": [
            "/Users/candra.kurniawan/Library/Python/3.11/lib/python/site-packages/seaborn/categorical.py:640: FutureWarning: SeriesGroupBy.grouper is deprecated and will be removed in a future version of pandas.\n",
            "  positions = grouped.grouper.result_index.to_numpy(dtype=float)\n"
          ]
        },
        {
          "data": {
            "image/png": "[encoded data removed]",
            "text/plain": [
              "<Figure size 640x480 with 1 Axes>"
            ]
          },
          "metadata": {},
          "output_type": "display_data"
        }
      ],
      "source": [
        "# Create a boxplot\n",
        "sns.boxplot(data=train_data[train_data['fare_amount'] < 50],\n",
        "            x='pickup_time',\n",
        "            y='fare_amount')\n",
        "plt.show()"
      ]
    },
    {
      "cell_type": "markdown",
      "metadata": {
        "id": "FcqYxsDtHynL"
      },
      "source": [
        "- There is no significant fare different between `pickup_time`.\n",
        "- We can perform a one hot encoding for this data."
      ]
    },
    {
      "cell_type": "markdown",
      "metadata": {
        "id": "9vXXNcIuH86Y"
      },
      "source": [
        "**Conclusion for preprocessing**\n",
        "- Impute the missing `passenger_counts` with its median\n",
        "- Impute the missing `pickup_time` with `'UNKNOWN'`\n",
        "- Feature engineering the `dropoff` and `pickup` coordinate to be a distance between pickup and dropoff. We can use an Euclidean distance for simplicity."
      ]
    },
    {
      "cell_type": "markdown",
      "metadata": {
        "id": "tUARDkuwIm7D"
      },
      "source": [
        "#### 2.4. Numerical Imputation (6 pts)\n",
        "---"
      ]
    },
    {
      "cell_type": "markdown",
      "metadata": {
        "id": "squyrSVbJ5dc"
      },
      "source": [
        "- Now, let's perform a numerical imputation\n",
        "- First check the missing value of the numerical data"
      ]
    },
    {
      "cell_type": "code",
      "execution_count": 383,
      "metadata": {
        "colab": {
          "base_uri": "https://localhost:8080/"
        },
        "id": "cVMwSr35MyCf",
        "outputId": "289b054e-4eb4-475b-a36f-ee9436e638b5"
      },
      "outputs": [
        {
          "data": {
            "text/plain": [
              "pickup_longitude       0\n",
              "pickup_latitude        0\n",
              "dropoff_longitude      0\n",
              "dropoff_latitude       0\n",
              "passenger_count      945\n",
              "dtype: int64"
            ]
          },
          "execution_count": 383,
          "metadata": {},
          "output_type": "execute_result"
        }
      ],
      "source": [
        "# Check missing value (JUST RUN THE CODE)\n",
        "X_train_num.isna().sum()\n"
      ]
    },
    {
      "cell_type": "markdown",
      "metadata": {
        "id": "qli0bc7TIm7H"
      },
      "source": [
        "- Create a function to fit a numerical features imputer"
      ]
    },
    {
      "cell_type": "code",
      "execution_count": 384,
      "metadata": {},
      "outputs": [],
      "source": [
        "from sklearn.impute import SimpleImputer"
      ]
    },
    {
      "cell_type": "code",
      "execution_count": 385,
      "metadata": {},
      "outputs": [
        {
          "data": {
            "text/plain": [
              "pickup_longitude     False\n",
              "pickup_latitude      False\n",
              "dropoff_longitude    False\n",
              "dropoff_latitude     False\n",
              "passenger_count       True\n",
              "dtype: bool"
            ]
          },
          "execution_count": 385,
          "metadata": {},
          "output_type": "execute_result"
        }
      ],
      "source": [
        "X_train_num.isnull().any()"
      ]
    },
    {
      "cell_type": "code",
      "execution_count": 386,
      "metadata": {
        "id": "S9xCqY1vIm7I"
      },
      "outputs": [],
      "source": [
        "####################################################\n",
        "# Create function to fit & transform numerical imputers\n",
        "# The fit function is called by num_imputer_fit\n",
        "# - it needs 1 input, the data (pd.DataFrame)\n",
        "# - the missing value is np.nan\n",
        "# - the imputation strategy is median\n",
        "# - it return the imputer\n",
        "#\n",
        "# The transform function is called by num_imputer_transform\n",
        "# - it needs 2 input, data (pd.DataFrame) and imputer (sklearn object)\n",
        "# - it return the imputed data in pd.DataFrame format\n",
        "#\n",
        "# Write your code here\n",
        "####################################################\n",
        "\n",
        "def num_imputer_fit(data):\n",
        "    \"\"\"\n",
        "      This is a function for Imputing a data Numeric\n",
        "      - have 2 argument, \n",
        "        1. input data (data), \n",
        "        #x2. numerical column target (numerical_column)\n",
        "      - the missing value is np.nan\n",
        "      - the imputation strategy is a median\n",
        "      - it return the imputer\n",
        "\n",
        "      Candra Kurniawan | Pacmann AI\n",
        "      \"\"\"\n",
        "    \n",
        "    try:\n",
        "        # Membuat Imputer\n",
        "        imputer_numerical = SimpleImputer(missing_values = np.nan,\n",
        "                                          strategy = \"median\")\n",
        "        # Fit imputer ke data X_train\n",
        "        imputer_numerical.fit(data)\n",
        "\n",
        "        return imputer_numerical\n",
        "        \n",
        "    except Exception as e:\n",
        "          print(f\"Error in imputing fit function: {str(e)}\")\n",
        "\n",
        "          return None\n",
        "\n",
        "def num_imputer_transform(imputer_numerical, data):\n",
        "    \"\"\"\n",
        "      This is a function for Transforming numeric data after apply Imputer\n",
        "      - have 2 argument, \n",
        "        1. input data (data), \n",
        "        2. the imputer function (median strategy)\n",
        "      The transform function is called by num_imputer_transform\n",
        "      # - it needs 2 input, data (pd.DataFrame) and imputer (sklearn object)\n",
        "      # - it return the imputed data in pd.DataFrame format\n",
        "\n",
        "      Candra Kurniawan | Pacmann AI\n",
        "      \"\"\"\n",
        "    \n",
        "    try:\n",
        "        # Begin Transforming\n",
        "        imputed_data = imputer_numerical.transform(data)\n",
        "        \n",
        "        # After success Transform, then make it to a Dataframe Format\n",
        "        X_train_num_imputed = pd.DataFrame(imputed_data, columns=data.columns, index=data.index)\n",
        "\n",
        "        # After transforming the data need to give a column same as X_train_num\n",
        "        #X_train_num_imputed = data.columns\n",
        "\n",
        "        # and give Index to order_id , same as X_train_num Dataframe\n",
        "        #X_train_num_imputed.index = data.index\n",
        "\n",
        "        #print(f\"{X_train_num_imputed.isna().sum(0)}\")\n",
        "\n",
        "        return X_train_num_imputed\n",
        "\n",
        "    except Exception as e:\n",
        "          print(f\"Error in imputer transform fucntion : {str(e)}\")\n",
        "\n",
        "          return None"
      ]
    },
    {
      "cell_type": "markdown",
      "metadata": {
        "id": "k3-99ZrM1-uU"
      },
      "source": [
        "- Perform imputation"
      ]
    },
    {
      "cell_type": "code",
      "execution_count": 387,
      "metadata": {
        "id": "6M8Ea7ybH7B3"
      },
      "outputs": [],
      "source": [
        "# Get the numerical imputer\n",
        "num_imputer = num_imputer_fit(data = X_train_num)\n",
        "\n",
        "# Transform the data\n",
        "X_train_num_imputed = num_imputer_transform(data = X_train_num, imputer_numerical = num_imputer)"
      ]
    },
    {
      "cell_type": "code",
      "execution_count": 388,
      "metadata": {
        "colab": {
          "base_uri": "https://localhost:8080/"
        },
        "id": "xkI8me6a2GNN",
        "outputId": "a25aff2c-8bed-4b2c-c724-84c58c6c8a0f"
      },
      "outputs": [
        {
          "data": {
            "text/plain": [
              "pickup_longitude     0\n",
              "pickup_latitude      0\n",
              "dropoff_longitude    0\n",
              "dropoff_latitude     0\n",
              "passenger_count      0\n",
              "dtype: int64"
            ]
          },
          "execution_count": 388,
          "metadata": {},
          "output_type": "execute_result"
        }
      ],
      "source": [
        "# Validate (JUST RUN THE CODE)\n",
        "X_train_num_imputed.isna().sum()"
      ]
    },
    {
      "cell_type": "code",
      "execution_count": 389,
      "metadata": {},
      "outputs": [
        {
          "data": {
            "text/html": [
              "<div>\n",
              "<style scoped>\n",
              "    .dataframe tbody tr th:only-of-type {\n",
              "        vertical-align: middle;\n",
              "    }\n",
              "\n",
              "    .dataframe tbody tr th {\n",
              "        vertical-align: top;\n",
              "    }\n",
              "\n",
              "    .dataframe thead th {\n",
              "        text-align: right;\n",
              "    }\n",
              "</style>\n",
              "<table border=\"1\" class=\"dataframe\">\n",
              "  <thead>\n",
              "    <tr style=\"text-align: right;\">\n",
              "      <th></th>\n",
              "      <th>pickup_longitude</th>\n",
              "      <th>pickup_latitude</th>\n",
              "      <th>dropoff_longitude</th>\n",
              "      <th>dropoff_latitude</th>\n",
              "      <th>passenger_count</th>\n",
              "    </tr>\n",
              "    <tr>\n",
              "      <th>order_id</th>\n",
              "      <th></th>\n",
              "      <th></th>\n",
              "      <th></th>\n",
              "      <th></th>\n",
              "      <th></th>\n",
              "    </tr>\n",
              "  </thead>\n",
              "  <tbody>\n",
              "    <tr>\n",
              "      <th>51655713</th>\n",
              "      <td>-73.979392</td>\n",
              "      <td>40.735734</td>\n",
              "      <td>-73.906281</td>\n",
              "      <td>40.745539</td>\n",
              "      <td>2.0</td>\n",
              "    </tr>\n",
              "    <tr>\n",
              "      <th>37525839</th>\n",
              "      <td>-73.986575</td>\n",
              "      <td>40.761473</td>\n",
              "      <td>-73.981880</td>\n",
              "      <td>40.768660</td>\n",
              "      <td>5.0</td>\n",
              "    </tr>\n",
              "    <tr>\n",
              "      <th>55058970</th>\n",
              "      <td>-73.972533</td>\n",
              "      <td>40.782260</td>\n",
              "      <td>-73.952761</td>\n",
              "      <td>40.708980</td>\n",
              "      <td>1.0</td>\n",
              "    </tr>\n",
              "    <tr>\n",
              "      <th>15663447</th>\n",
              "      <td>-73.979967</td>\n",
              "      <td>40.751612</td>\n",
              "      <td>-73.976313</td>\n",
              "      <td>40.758427</td>\n",
              "      <td>6.0</td>\n",
              "    </tr>\n",
              "    <tr>\n",
              "      <th>13325650</th>\n",
              "      <td>-73.976192</td>\n",
              "      <td>40.744026</td>\n",
              "      <td>-73.980935</td>\n",
              "      <td>40.733946</td>\n",
              "      <td>1.0</td>\n",
              "    </tr>\n",
              "  </tbody>\n",
              "</table>\n",
              "</div>"
            ],
            "text/plain": [
              "          pickup_longitude  pickup_latitude  dropoff_longitude  \\\n",
              "order_id                                                         \n",
              "51655713        -73.979392        40.735734         -73.906281   \n",
              "37525839        -73.986575        40.761473         -73.981880   \n",
              "55058970        -73.972533        40.782260         -73.952761   \n",
              "15663447        -73.979967        40.751612         -73.976313   \n",
              "13325650        -73.976192        40.744026         -73.980935   \n",
              "\n",
              "          dropoff_latitude  passenger_count  \n",
              "order_id                                     \n",
              "51655713         40.745539              2.0  \n",
              "37525839         40.768660              5.0  \n",
              "55058970         40.708980              1.0  \n",
              "15663447         40.758427              6.0  \n",
              "13325650         40.733946              1.0  "
            ]
          },
          "execution_count": 389,
          "metadata": {},
          "output_type": "execute_result"
        }
      ],
      "source": [
        "X_train_num_imputed.head(5)"
      ]
    },
    {
      "cell_type": "code",
      "execution_count": 390,
      "metadata": {},
      "outputs": [
        {
          "data": {
            "text/plain": [
              "pandas.core.frame.DataFrame"
            ]
          },
          "execution_count": 390,
          "metadata": {},
          "output_type": "execute_result"
        }
      ],
      "source": [
        "type(X_train_num_imputed)"
      ]
    },
    {
      "cell_type": "markdown",
      "metadata": {
        "id": "qIqhlTq42cDa"
      },
      "source": [
        "Great!"
      ]
    },
    {
      "cell_type": "markdown",
      "metadata": {
        "id": "1dyVifNK2fZA"
      },
      "source": [
        "#### 2.5. Categorical Imputation (6 pts)\n",
        "---"
      ]
    },
    {
      "cell_type": "markdown",
      "metadata": {
        "id": "rtw3ZtuVMBFq"
      },
      "source": [
        "- Next, let's perform the categorical imputation"
      ]
    },
    {
      "cell_type": "code",
      "execution_count": 391,
      "metadata": {
        "colab": {
          "base_uri": "https://localhost:8080/"
        },
        "id": "YOLY-j9c2fZN",
        "outputId": "6d8c602c-5e55-4f82-f678-d7bfe2e5ac63"
      },
      "outputs": [
        {
          "data": {
            "text/plain": [
              "pickup_time\n",
              "16-22          0.328160\n",
              "10-16          0.286376\n",
              "22-04          0.221648\n",
              "04-10          0.157599\n",
              "-              0.006217\n",
              "Name: proportion, dtype: float64"
            ]
          },
          "execution_count": 391,
          "metadata": {},
          "output_type": "execute_result"
        }
      ],
      "source": [
        "# Check missing value (JUST RUN THE CODE)\n",
        "X_train_cat.value_counts(normalize=True)"
      ]
    },
    {
      "cell_type": "markdown",
      "metadata": {
        "id": "eeKkHCph2fZN"
      },
      "source": [
        "- Create a function to fit a categorical features imputer"
      ]
    },
    {
      "cell_type": "code",
      "execution_count": 392,
      "metadata": {
        "id": "zj32QoP72fZO"
      },
      "outputs": [],
      "source": [
        "####################################################\n",
        "# Create function to fit & transform categorical imputers\n",
        "# The fit function is called by cat_imputer_fit\n",
        "# - it needs 1 input, the data (pd.DataFrame)\n",
        "# - the missing value is '-'\n",
        "# - the imputation strategy is filling it with 'UNKNOWN'\n",
        "# - it return the imputer\n",
        "#\n",
        "# The transform function is called by cat_imputer_transform\n",
        "# - it needs 2 input, data (pd.DataFrame) and imputer (sklearn object)\n",
        "# - it return the imputed data in pd.DataFrame format\n",
        "#\n",
        "# Write your code here\n",
        "####################################################\n",
        "\n",
        "def cat_imputer_fit(data):\n",
        "    \"\"\"\n",
        "    This is a function for create Imputer (Categorical data) to X_train data\n",
        "\n",
        "    specs:  -> it have 1 input (data),\n",
        "            -> the missing value parameter is '-'\n",
        "            -> the imputation Strategy is filling it with 'UNKNOWN',\n",
        "            -> then return the imputer.\n",
        "\n",
        "    Candra Kurniawan | Pacmann AI 2024.\n",
        "\n",
        "    \"\"\"\n",
        "    try:\n",
        "        # Create categorical imputer\n",
        "\n",
        "        imputer_categorical = SimpleImputer(missing_values = '-', strategy = 'constant',\n",
        "                                            fill_value = 'UNKNOWN')\n",
        "        \n",
        "        # Fit the imputer to the input data\n",
        "        imputer_categorical.fit(data)\n",
        "\n",
        "        return imputer_categorical\n",
        "\n",
        "    except Exception as e:\n",
        "          print(f\"Error in imputer categorical function : {str(e)}\")\n",
        "\n",
        "          return None\n",
        "    \n",
        "def cat_imputer_transform(imputer_categorical, data):\n",
        "     \"\"\"\n",
        "     This is a function for Transform imputer to the X_train data.\n",
        "\n",
        "    specs:  -> it have 2 input args ( imputer cat, data)\n",
        "            -> it returning the imputed_data_cat.\n",
        "\n",
        "    Candra Kurniawan | Pacmann AI 2024.\n",
        "        \n",
        "     \"\"\"\n",
        "     try:\n",
        "        # begin transforming to the X_train_cat\n",
        "        imputed_data = imputer_categorical.transform(data)\n",
        "        \n",
        "        # Fit and transform the categorical data\n",
        "        X_cat_imputed = pd.DataFrame(imputed_data, columns = data.columns, index = data.index)\n",
        "\n",
        "        return X_cat_imputed\n",
        "     \n",
        "     except Exception as e:\n",
        "          print(f\"Error in Transform categorical function : {str(e)}\")\n",
        "\n",
        "          return None\n",
        "        "
      ]
    },
    {
      "cell_type": "markdown",
      "metadata": {
        "id": "HaIpEyAb2fZO"
      },
      "source": [
        "- Perform imputation"
      ]
    },
    {
      "cell_type": "code",
      "execution_count": 393,
      "metadata": {
        "id": "_RVqvHaa2fZP"
      },
      "outputs": [],
      "source": [
        "# Perform categorical imputation\n",
        "cat_imputer = cat_imputer_fit(data = X_train_cat)\n",
        "\n",
        "# Transform\n",
        "X_train_cat_imputed = cat_imputer_transform(imputer_categorical = cat_imputer, data = X_train_cat)"
      ]
    },
    {
      "cell_type": "code",
      "execution_count": 394,
      "metadata": {
        "colab": {
          "base_uri": "https://localhost:8080/"
        },
        "id": "Cl1KZpCP2fZP",
        "outputId": "dafd6a60-17fb-459b-f603-59f12d9885d6"
      },
      "outputs": [
        {
          "data": {
            "text/plain": [
              "pickup_time\n",
              "16-22          0.328160\n",
              "10-16          0.286376\n",
              "22-04          0.221648\n",
              "04-10          0.157599\n",
              "UNKNOWN        0.006217\n",
              "Name: proportion, dtype: float64"
            ]
          },
          "execution_count": 394,
          "metadata": {},
          "output_type": "execute_result"
        }
      ],
      "source": [
        "# Validate (JUST RUN THE CODE)\n",
        "X_train_cat_imputed.value_counts(normalize=True)"
      ]
    },
    {
      "cell_type": "code",
      "execution_count": 395,
      "metadata": {},
      "outputs": [
        {
          "data": {
            "text/html": [
              "<div>\n",
              "<style scoped>\n",
              "    .dataframe tbody tr th:only-of-type {\n",
              "        vertical-align: middle;\n",
              "    }\n",
              "\n",
              "    .dataframe tbody tr th {\n",
              "        vertical-align: top;\n",
              "    }\n",
              "\n",
              "    .dataframe thead th {\n",
              "        text-align: right;\n",
              "    }\n",
              "</style>\n",
              "<table border=\"1\" class=\"dataframe\">\n",
              "  <thead>\n",
              "    <tr style=\"text-align: right;\">\n",
              "      <th></th>\n",
              "      <th>pickup_time</th>\n",
              "    </tr>\n",
              "    <tr>\n",
              "      <th>order_id</th>\n",
              "      <th></th>\n",
              "    </tr>\n",
              "  </thead>\n",
              "  <tbody>\n",
              "    <tr>\n",
              "      <th>51655713</th>\n",
              "      <td>16-22</td>\n",
              "    </tr>\n",
              "    <tr>\n",
              "      <th>37525839</th>\n",
              "      <td>16-22</td>\n",
              "    </tr>\n",
              "    <tr>\n",
              "      <th>55058970</th>\n",
              "      <td>16-22</td>\n",
              "    </tr>\n",
              "    <tr>\n",
              "      <th>15663447</th>\n",
              "      <td>10-16</td>\n",
              "    </tr>\n",
              "    <tr>\n",
              "      <th>13325650</th>\n",
              "      <td>16-22</td>\n",
              "    </tr>\n",
              "  </tbody>\n",
              "</table>\n",
              "</div>"
            ],
            "text/plain": [
              "         pickup_time\n",
              "order_id            \n",
              "51655713       16-22\n",
              "37525839       16-22\n",
              "55058970       16-22\n",
              "15663447       10-16\n",
              "13325650       16-22"
            ]
          },
          "execution_count": 395,
          "metadata": {},
          "output_type": "execute_result"
        }
      ],
      "source": [
        "X_train_cat_imputed.head(5)"
      ]
    },
    {
      "cell_type": "markdown",
      "metadata": {
        "id": "PVbiQF7V2fZP"
      },
      "source": [
        "Great!"
      ]
    },
    {
      "cell_type": "markdown",
      "metadata": {
        "id": "ICQiqto83TQ9"
      },
      "source": [
        "#### 2.6. Preprocess Categorical Features (6 pts)\n",
        "---"
      ]
    },
    {
      "cell_type": "markdown",
      "metadata": {
        "id": "60X9R4Ny3cwY"
      },
      "source": [
        "- We will create a one-hot-encoder (read the `EDA before processing`) for the categorical features\n",
        "- Create a function to perform a one hot encoder"
      ]
    },
    {
      "cell_type": "code",
      "execution_count": 396,
      "metadata": {},
      "outputs": [],
      "source": [
        "from sklearn.preprocessing import OneHotEncoder"
      ]
    },
    {
      "cell_type": "code",
      "execution_count": 399,
      "metadata": {
        "id": "wsly5zI_3TQ_"
      },
      "outputs": [],
      "source": [
        "####################################################\n",
        "# Write two functions to perform OHE for the categorical data\n",
        "# The first function is called cat_encoder_fit\n",
        "# - It needs 1 input, the data (pd.DataFrame)\n",
        "# - You create an encoder (from OHE Sklearn)\n",
        "# - input all categories of the categorical data\n",
        "# - if there is other category outside the categories listed right now, ignore it\n",
        "# - return the encoder\n",
        "#\n",
        "# The second function is called cat_encoder_transfrom\n",
        "# - It needs two input, the data (pd.DataFrame), the encoder (sklearn object)\n",
        "# - It transform the input data based on the encoder\n",
        "# - It returns the encoded data (pd.DataFrame)\n",
        "#\n",
        "# Write your code here\n",
        "####################################################\n",
        "\n",
        "def cat_encoder_fit(data):\n",
        "    \"\"\" \n",
        "    Perform one-hot encoding on categorical data.\n",
        "\n",
        "    Spec :  -> needs 1 input, the data (pd.DataFrame)\n",
        "            -> You create an encoder (from OHE Sklearn)\n",
        "            -> input all categories of the categorical data\n",
        "            -> if there is other category outside the categories listed right now, ignore it\n",
        "            -> return.\n",
        "    \"\"\"\n",
        "    try:\n",
        "    \n",
        "        # Initialize the OneHotEncoder\n",
        "        encoder = OneHotEncoder(sparse_output=False, handle_unknown='ignore')\n",
        "        \n",
        "        # Fit the data with OHE\n",
        "        encoder.fit(data)\n",
        "\n",
        "        return encoder\n",
        "\n",
        "\n",
        "    except Exception as e:\n",
        "\n",
        "        print(f\"Error in one-hot encoding function: {str(e)}\")\n",
        "\n",
        "        return None\n",
        "    \n",
        "def cat_encoder_transfrom(encoder, data, column):\n",
        "    \"\"\" \n",
        "    This function for transforming categorical_data into OnehotEncoding\n",
        "\n",
        "    Returns: one hot encoded pd.DataFrame, the one-hot encoded dataset.\n",
        "\n",
        "    Candra Kurniawan | Pacmann AI 2024.\n",
        "    \"\"\"\n",
        "    try:\n",
        "        #one_hot_encoded = encoder.transform(data)\n",
        "\n",
        "        #one_hot_encoded_df = pd.DataFrame(one_hot_encoded, columns=encoder.get_feature_names_out(data.columns), index=data.index)\n",
        "\n",
        "        #return one_hot_encoded_df\n",
        "\n",
        "        # Extract the specified column\n",
        "        column_data = data[[column]]\n",
        "\n",
        "        # Get the feature names directly from the unique values in the original column\n",
        "        feature_names = data[column].unique()\n",
        "\n",
        "        # Transform the data using the fitted encoder\n",
        "        one_hot_encoded = encoder.transform(column_data)\n",
        "\n",
        "        # Create a DataFrame with the one-hot encoded columns\n",
        "        one_hot_encoded_df = pd.DataFrame(\n",
        "            one_hot_encoded,\n",
        "            columns=encoder.get_feature_names_out([column]), \n",
        "            index=data.index\n",
        "        )\n",
        "\n",
        "        return one_hot_encoded_df\n",
        "\n",
        "    \n",
        "    except Exception as e:\n",
        "\n",
        "        print(f\"Error when transforming OneHotEncoding function: {str(e)}\")\n",
        "\n",
        "        return None"
      ]
    },
    {
      "cell_type": "code",
      "execution_count": 400,
      "metadata": {},
      "outputs": [
        {
          "data": {
            "text/html": [
              "<div>\n",
              "<style scoped>\n",
              "    .dataframe tbody tr th:only-of-type {\n",
              "        vertical-align: middle;\n",
              "    }\n",
              "\n",
              "    .dataframe tbody tr th {\n",
              "        vertical-align: top;\n",
              "    }\n",
              "\n",
              "    .dataframe thead th {\n",
              "        text-align: right;\n",
              "    }\n",
              "</style>\n",
              "<table border=\"1\" class=\"dataframe\">\n",
              "  <thead>\n",
              "    <tr style=\"text-align: right;\">\n",
              "      <th></th>\n",
              "      <th>pickup_time</th>\n",
              "    </tr>\n",
              "    <tr>\n",
              "      <th>order_id</th>\n",
              "      <th></th>\n",
              "    </tr>\n",
              "  </thead>\n",
              "  <tbody>\n",
              "    <tr>\n",
              "      <th>51655713</th>\n",
              "      <td>16-22</td>\n",
              "    </tr>\n",
              "    <tr>\n",
              "      <th>37525839</th>\n",
              "      <td>16-22</td>\n",
              "    </tr>\n",
              "    <tr>\n",
              "      <th>55058970</th>\n",
              "      <td>16-22</td>\n",
              "    </tr>\n",
              "    <tr>\n",
              "      <th>15663447</th>\n",
              "      <td>10-16</td>\n",
              "    </tr>\n",
              "    <tr>\n",
              "      <th>13325650</th>\n",
              "      <td>16-22</td>\n",
              "    </tr>\n",
              "  </tbody>\n",
              "</table>\n",
              "</div>"
            ],
            "text/plain": [
              "         pickup_time\n",
              "order_id            \n",
              "51655713       16-22\n",
              "37525839       16-22\n",
              "55058970       16-22\n",
              "15663447       10-16\n",
              "13325650       16-22"
            ]
          },
          "execution_count": 400,
          "metadata": {},
          "output_type": "execute_result"
        }
      ],
      "source": [
        "X_train_cat_imputed.head()"
      ]
    },
    {
      "cell_type": "markdown",
      "metadata": {
        "id": "AYa06kxt3TQ_"
      },
      "source": [
        "- Perform imputation"
      ]
    },
    {
      "cell_type": "code",
      "execution_count": 401,
      "metadata": {
        "id": "xu_VB3_w3TQ_"
      },
      "outputs": [],
      "source": [
        "# Perform categorical imputation\n",
        "cat_encoder = cat_encoder_fit(data = X_train_cat_imputed)\n",
        "\n",
        "# Transform\n",
        "X_train_cat_encoded = cat_encoder_transfrom(encoder = cat_encoder, data = X_train_cat_imputed, column = 'pickup_time')"
      ]
    },
    {
      "cell_type": "code",
      "execution_count": 402,
      "metadata": {
        "colab": {
          "base_uri": "https://localhost:8080/"
        },
        "id": "ZCjWwE6rN4lt",
        "outputId": "2ad1c38f-f8d5-4d2e-a937-50e20c9d90d2"
      },
      "outputs": [
        {
          "name": "stdout",
          "output_type": "stream",
          "text": [
            "Original shape: (155851, 1)\n",
            "Encoded shape : (155851, 5)\n"
          ]
        }
      ],
      "source": [
        "# Validate  (JUST RUN THE CODE)\n",
        "print('Original shape:', X_train_cat_imputed.shape)\n",
        "print('Encoded shape :', X_train_cat_encoded.shape)"
      ]
    },
    {
      "cell_type": "code",
      "execution_count": 403,
      "metadata": {
        "colab": {
          "base_uri": "https://localhost:8080/"
        },
        "id": "TuWmwru63TQ_",
        "outputId": "96b37ffc-1d23-43c8-d626-2c117dd8b686"
      },
      "outputs": [
        {
          "data": {
            "text/html": [
              "<div>\n",
              "<style scoped>\n",
              "    .dataframe tbody tr th:only-of-type {\n",
              "        vertical-align: middle;\n",
              "    }\n",
              "\n",
              "    .dataframe tbody tr th {\n",
              "        vertical-align: top;\n",
              "    }\n",
              "\n",
              "    .dataframe thead th {\n",
              "        text-align: right;\n",
              "    }\n",
              "</style>\n",
              "<table border=\"1\" class=\"dataframe\">\n",
              "  <thead>\n",
              "    <tr style=\"text-align: right;\">\n",
              "      <th></th>\n",
              "      <th>pickup_time_04-10</th>\n",
              "      <th>pickup_time_10-16</th>\n",
              "      <th>pickup_time_16-22</th>\n",
              "      <th>pickup_time_22-04</th>\n",
              "      <th>pickup_time_UNKNOWN</th>\n",
              "    </tr>\n",
              "    <tr>\n",
              "      <th>order_id</th>\n",
              "      <th></th>\n",
              "      <th></th>\n",
              "      <th></th>\n",
              "      <th></th>\n",
              "      <th></th>\n",
              "    </tr>\n",
              "  </thead>\n",
              "  <tbody>\n",
              "    <tr>\n",
              "      <th>51655713</th>\n",
              "      <td>0.0</td>\n",
              "      <td>0.0</td>\n",
              "      <td>1.0</td>\n",
              "      <td>0.0</td>\n",
              "      <td>0.0</td>\n",
              "    </tr>\n",
              "    <tr>\n",
              "      <th>37525839</th>\n",
              "      <td>0.0</td>\n",
              "      <td>0.0</td>\n",
              "      <td>1.0</td>\n",
              "      <td>0.0</td>\n",
              "      <td>0.0</td>\n",
              "    </tr>\n",
              "    <tr>\n",
              "      <th>55058970</th>\n",
              "      <td>0.0</td>\n",
              "      <td>0.0</td>\n",
              "      <td>1.0</td>\n",
              "      <td>0.0</td>\n",
              "      <td>0.0</td>\n",
              "    </tr>\n",
              "    <tr>\n",
              "      <th>15663447</th>\n",
              "      <td>0.0</td>\n",
              "      <td>1.0</td>\n",
              "      <td>0.0</td>\n",
              "      <td>0.0</td>\n",
              "      <td>0.0</td>\n",
              "    </tr>\n",
              "    <tr>\n",
              "      <th>13325650</th>\n",
              "      <td>0.0</td>\n",
              "      <td>0.0</td>\n",
              "      <td>1.0</td>\n",
              "      <td>0.0</td>\n",
              "      <td>0.0</td>\n",
              "    </tr>\n",
              "  </tbody>\n",
              "</table>\n",
              "</div>"
            ],
            "text/plain": [
              "          pickup_time_04-10  pickup_time_10-16  pickup_time_16-22  \\\n",
              "order_id                                                            \n",
              "51655713                0.0                0.0                1.0   \n",
              "37525839                0.0                0.0                1.0   \n",
              "55058970                0.0                0.0                1.0   \n",
              "15663447                0.0                1.0                0.0   \n",
              "13325650                0.0                0.0                1.0   \n",
              "\n",
              "          pickup_time_22-04  pickup_time_UNKNOWN  \n",
              "order_id                                          \n",
              "51655713                0.0                  0.0  \n",
              "37525839                0.0                  0.0  \n",
              "55058970                0.0                  0.0  \n",
              "15663447                0.0                  0.0  \n",
              "13325650                0.0                  0.0  "
            ]
          },
          "execution_count": 403,
          "metadata": {},
          "output_type": "execute_result"
        }
      ],
      "source": [
        "# Validate  (JUST RUN THE CODE)\n",
        "X_train_cat_encoded.head()"
      ]
    },
    {
      "cell_type": "code",
      "execution_count": 404,
      "metadata": {
        "colab": {
          "base_uri": "https://localhost:8080/"
        },
        "id": "IKwZYDhl7IiF",
        "outputId": "2d6b349a-3a4e-4eca-8cfa-4841e271872d"
      },
      "outputs": [
        {
          "data": {
            "text/html": [
              "<div>\n",
              "<style scoped>\n",
              "    .dataframe tbody tr th:only-of-type {\n",
              "        vertical-align: middle;\n",
              "    }\n",
              "\n",
              "    .dataframe tbody tr th {\n",
              "        vertical-align: top;\n",
              "    }\n",
              "\n",
              "    .dataframe thead th {\n",
              "        text-align: right;\n",
              "    }\n",
              "</style>\n",
              "<table border=\"1\" class=\"dataframe\">\n",
              "  <thead>\n",
              "    <tr style=\"text-align: right;\">\n",
              "      <th></th>\n",
              "      <th>pickup_time</th>\n",
              "    </tr>\n",
              "    <tr>\n",
              "      <th>order_id</th>\n",
              "      <th></th>\n",
              "    </tr>\n",
              "  </thead>\n",
              "  <tbody>\n",
              "    <tr>\n",
              "      <th>51655713</th>\n",
              "      <td>16-22</td>\n",
              "    </tr>\n",
              "    <tr>\n",
              "      <th>37525839</th>\n",
              "      <td>16-22</td>\n",
              "    </tr>\n",
              "    <tr>\n",
              "      <th>55058970</th>\n",
              "      <td>16-22</td>\n",
              "    </tr>\n",
              "    <tr>\n",
              "      <th>15663447</th>\n",
              "      <td>10-16</td>\n",
              "    </tr>\n",
              "    <tr>\n",
              "      <th>13325650</th>\n",
              "      <td>16-22</td>\n",
              "    </tr>\n",
              "  </tbody>\n",
              "</table>\n",
              "</div>"
            ],
            "text/plain": [
              "         pickup_time\n",
              "order_id            \n",
              "51655713       16-22\n",
              "37525839       16-22\n",
              "55058970       16-22\n",
              "15663447       10-16\n",
              "13325650       16-22"
            ]
          },
          "execution_count": 404,
          "metadata": {},
          "output_type": "execute_result"
        }
      ],
      "source": [
        "# Validate  (JUST RUN THE CODE)\n",
        "X_train_cat_imputed.head()"
      ]
    },
    {
      "cell_type": "code",
      "execution_count": 405,
      "metadata": {},
      "outputs": [
        {
          "name": "stdout",
          "output_type": "stream",
          "text": [
            "1\n",
            "5\n"
          ]
        }
      ],
      "source": [
        "# Validate  (JUST RUN THE CODE)\n",
        "print(len(X_train_cat_imputed.columns))\n",
        "print(len(X_train_cat_encoded.columns))\n"
      ]
    },
    {
      "cell_type": "markdown",
      "metadata": {
        "id": "hGS9Q4vP3TQ_"
      },
      "source": [
        "Great!"
      ]
    },
    {
      "cell_type": "markdown",
      "metadata": {
        "id": "e4PGfH5-7QRM"
      },
      "source": [
        "#### 2.7. Join the data (6 pts)\n",
        "---"
      ]
    },
    {
      "cell_type": "markdown",
      "metadata": {
        "id": "L-MBNC397QRU"
      },
      "source": [
        "- After all the data is filled (numerically), we can join the data\n",
        "- Create a function to join the data"
      ]
    },
    {
      "cell_type": "code",
      "execution_count": 406,
      "metadata": {
        "id": "VdZ4oOas7QRU"
      },
      "outputs": [],
      "source": [
        "####################################################\n",
        "# Create a function to join / concat the data\n",
        "# The function is called by concat_data\n",
        "# - It needs two input, num_data (pd.DataFrame) and cat_data (pd.DataFrame)\n",
        "# - Don't forget to validate your process\n",
        "# - It returns the concated data\n",
        "#\n",
        "# Write your code here\n",
        "####################################################\n",
        "\n",
        "def concat_data(num_data, cat_data):\n",
        "    \"\"\" \n",
        "    Perform concatenation onehotencoding data(X_train_cat_encoded)\n",
        "    with train data (X_train_cat_imputed)\n",
        "\n",
        "    Spec :  # It needs two input, num_data (pd.DataFrame) and cat_data (pd.DataFrame)\n",
        "            # - Don't forget to validate your process\n",
        "            # - It returns the concated data\n",
        "    \n",
        "    Candra Kurniawan | Pacmann AI 2024\n",
        "\n",
        "    \"\"\"\n",
        "    try:\n",
        "        concat = pd.concat([num_data, cat_data], axis = 1)\n",
        "\n",
        "        return concat\n",
        "    \n",
        "    except Exception as e:\n",
        "        \n",
        "        print(f\"Error when concatenating OHE and train cat data: {str(e)}\")\n",
        "\n",
        "        return None"
      ]
    },
    {
      "cell_type": "markdown",
      "metadata": {
        "id": "apDQ_ZBh7QRV"
      },
      "source": [
        "- Perform concatenated"
      ]
    },
    {
      "cell_type": "code",
      "execution_count": 407,
      "metadata": {
        "colab": {
          "base_uri": "https://localhost:8080/"
        },
        "id": "bNXOjIzf7QRV",
        "outputId": "cfcd004f-0895-4cbe-c0e0-07209805806d"
      },
      "outputs": [
        {
          "name": "stdout",
          "output_type": "stream",
          "text": [
            "Numerical data shape    : (155851, 5)\n",
            "Categorical data shape  : (155851, 5)\n",
            "Concat data shape       : (155851, 10)\n"
          ]
        }
      ],
      "source": [
        "# Concat the data\n",
        "X_train_concat = concat_data(num_data = X_train_num_imputed, cat_data = X_train_cat_encoded)\n",
        "\n",
        "print(f\"Numerical data shape    : {X_train_num_imputed.shape}\")\n",
        "print(f\"Categorical data shape  : {X_train_cat_encoded.shape}\")\n",
        "print(f\"Concat data shape       : {X_train_concat.shape}\")"
      ]
    },
    {
      "cell_type": "code",
      "execution_count": 408,
      "metadata": {
        "colab": {
          "base_uri": "https://localhost:8080/"
        },
        "id": "lx5Un4WZOh3-",
        "outputId": "87e6fde2-5872-4750-f788-953dab7de612"
      },
      "outputs": [
        {
          "data": {
            "text/html": [
              "<div>\n",
              "<style scoped>\n",
              "    .dataframe tbody tr th:only-of-type {\n",
              "        vertical-align: middle;\n",
              "    }\n",
              "\n",
              "    .dataframe tbody tr th {\n",
              "        vertical-align: top;\n",
              "    }\n",
              "\n",
              "    .dataframe thead th {\n",
              "        text-align: right;\n",
              "    }\n",
              "</style>\n",
              "<table border=\"1\" class=\"dataframe\">\n",
              "  <thead>\n",
              "    <tr style=\"text-align: right;\">\n",
              "      <th></th>\n",
              "      <th>pickup_longitude</th>\n",
              "      <th>pickup_latitude</th>\n",
              "      <th>dropoff_longitude</th>\n",
              "      <th>dropoff_latitude</th>\n",
              "      <th>passenger_count</th>\n",
              "      <th>pickup_time_04-10</th>\n",
              "      <th>pickup_time_10-16</th>\n",
              "      <th>pickup_time_16-22</th>\n",
              "      <th>pickup_time_22-04</th>\n",
              "      <th>pickup_time_UNKNOWN</th>\n",
              "    </tr>\n",
              "    <tr>\n",
              "      <th>order_id</th>\n",
              "      <th></th>\n",
              "      <th></th>\n",
              "      <th></th>\n",
              "      <th></th>\n",
              "      <th></th>\n",
              "      <th></th>\n",
              "      <th></th>\n",
              "      <th></th>\n",
              "      <th></th>\n",
              "      <th></th>\n",
              "    </tr>\n",
              "  </thead>\n",
              "  <tbody>\n",
              "    <tr>\n",
              "      <th>51655713</th>\n",
              "      <td>-73.979392</td>\n",
              "      <td>40.735734</td>\n",
              "      <td>-73.906281</td>\n",
              "      <td>40.745539</td>\n",
              "      <td>2.0</td>\n",
              "      <td>0.0</td>\n",
              "      <td>0.0</td>\n",
              "      <td>1.0</td>\n",
              "      <td>0.0</td>\n",
              "      <td>0.0</td>\n",
              "    </tr>\n",
              "    <tr>\n",
              "      <th>37525839</th>\n",
              "      <td>-73.986575</td>\n",
              "      <td>40.761473</td>\n",
              "      <td>-73.981880</td>\n",
              "      <td>40.768660</td>\n",
              "      <td>5.0</td>\n",
              "      <td>0.0</td>\n",
              "      <td>0.0</td>\n",
              "      <td>1.0</td>\n",
              "      <td>0.0</td>\n",
              "      <td>0.0</td>\n",
              "    </tr>\n",
              "    <tr>\n",
              "      <th>55058970</th>\n",
              "      <td>-73.972533</td>\n",
              "      <td>40.782260</td>\n",
              "      <td>-73.952761</td>\n",
              "      <td>40.708980</td>\n",
              "      <td>1.0</td>\n",
              "      <td>0.0</td>\n",
              "      <td>0.0</td>\n",
              "      <td>1.0</td>\n",
              "      <td>0.0</td>\n",
              "      <td>0.0</td>\n",
              "    </tr>\n",
              "    <tr>\n",
              "      <th>15663447</th>\n",
              "      <td>-73.979967</td>\n",
              "      <td>40.751612</td>\n",
              "      <td>-73.976313</td>\n",
              "      <td>40.758427</td>\n",
              "      <td>6.0</td>\n",
              "      <td>0.0</td>\n",
              "      <td>1.0</td>\n",
              "      <td>0.0</td>\n",
              "      <td>0.0</td>\n",
              "      <td>0.0</td>\n",
              "    </tr>\n",
              "    <tr>\n",
              "      <th>13325650</th>\n",
              "      <td>-73.976192</td>\n",
              "      <td>40.744026</td>\n",
              "      <td>-73.980935</td>\n",
              "      <td>40.733946</td>\n",
              "      <td>1.0</td>\n",
              "      <td>0.0</td>\n",
              "      <td>0.0</td>\n",
              "      <td>1.0</td>\n",
              "      <td>0.0</td>\n",
              "      <td>0.0</td>\n",
              "    </tr>\n",
              "  </tbody>\n",
              "</table>\n",
              "</div>"
            ],
            "text/plain": [
              "          pickup_longitude  pickup_latitude  dropoff_longitude  \\\n",
              "order_id                                                         \n",
              "51655713        -73.979392        40.735734         -73.906281   \n",
              "37525839        -73.986575        40.761473         -73.981880   \n",
              "55058970        -73.972533        40.782260         -73.952761   \n",
              "15663447        -73.979967        40.751612         -73.976313   \n",
              "13325650        -73.976192        40.744026         -73.980935   \n",
              "\n",
              "          dropoff_latitude  passenger_count  pickup_time_04-10  \\\n",
              "order_id                                                         \n",
              "51655713         40.745539              2.0                0.0   \n",
              "37525839         40.768660              5.0                0.0   \n",
              "55058970         40.708980              1.0                0.0   \n",
              "15663447         40.758427              6.0                0.0   \n",
              "13325650         40.733946              1.0                0.0   \n",
              "\n",
              "          pickup_time_10-16  pickup_time_16-22  pickup_time_22-04  \\\n",
              "order_id                                                            \n",
              "51655713                0.0                1.0                0.0   \n",
              "37525839                0.0                1.0                0.0   \n",
              "55058970                0.0                1.0                0.0   \n",
              "15663447                1.0                0.0                0.0   \n",
              "13325650                0.0                1.0                0.0   \n",
              "\n",
              "          pickup_time_UNKNOWN  \n",
              "order_id                       \n",
              "51655713                  0.0  \n",
              "37525839                  0.0  \n",
              "55058970                  0.0  \n",
              "15663447                  0.0  \n",
              "13325650                  0.0  "
            ]
          },
          "execution_count": 408,
          "metadata": {},
          "output_type": "execute_result"
        }
      ],
      "source": [
        "# Validate (JUST RUN THE CODE)\n",
        "X_train_concat.head()"
      ]
    },
    {
      "cell_type": "markdown",
      "metadata": {
        "id": "IKaeyh8J7QRW"
      },
      "source": [
        "Great!"
      ]
    },
    {
      "cell_type": "markdown",
      "metadata": {
        "id": "VD93lAeX8ktW"
      },
      "source": [
        "#### 2.8. Feature engineering the data (8 pts)\n",
        "---"
      ]
    },
    {
      "cell_type": "markdown",
      "metadata": {
        "id": "zSlPHShB8kte"
      },
      "source": [
        "- Now, `pickup` and `dropoff` coordinate is not an explicit features.\n",
        "- We can create a better feature called by `distance` to summarize the `pickup` and `dropoff` coordinate."
      ]
    },
    {
      "cell_type": "code",
      "execution_count": 409,
      "metadata": {
        "id": "cCdNLObo8ktf"
      },
      "outputs": [],
      "source": [
        "####################################################\n",
        "# Create a function that obtain the distance\n",
        "# The function is called with map_distance\n",
        "# - It needs an input, data (pd.DataFrame)\n",
        "# - In the input, you calculate the trip distance using Euclidean Distance\n",
        "#   ref: https://www.cuemath.com/euclidean-distance-formula/\n",
        "# - Then, you can save the distance information as a new column, 'distance'\n",
        "# - And you can drop the pickup and dropoff latitude and longitude\n",
        "# - You return the mapped data\n",
        "#\n",
        "# Write your code here\n",
        "####################################################\n",
        "\n",
        "def euclidean_distance(lat1, lon1, lat2, lon2):\n",
        "    \"\"\"\n",
        "    Calculate the Euclidean distance between two points given their latitude and longitude.\n",
        "\n",
        "    Parameters:\n",
        "    - lat1, lon1: Latitude and longitude of the first point.\n",
        "    - lat2, lon2: Latitude and longitude of the second point.\n",
        "\n",
        "    Returns:\n",
        "    - distance: Euclidean distance between the two points.\n",
        "    \"\"\"\n",
        "    return np.sqrt((lat2 - lat1)**2 + (lon2 - lon1)**2)\n",
        "\n",
        "def map_distance(data):\n",
        "    try:\n",
        "        # Create a new DataFrame to store the calculated distance column\n",
        "        distance_df = pd.DataFrame(index=data.index)\n",
        "\n",
        "        # Calculate Euclidean distance and add a new column 'distance'\n",
        "        distance_df['distance'] = euclidean_distance(data['pickup_latitude'], data['pickup_longitude'],\n",
        "                                               data['dropoff_latitude'], data['dropoff_longitude'])\n",
        "        \n",
        "        # Concatenate the original DataFrame with the distance DataFrame\n",
        "        mapped_data = pd.concat([data, distance_df], axis=1)\n",
        "\n",
        "        # Drop pickup and dropoff latitude and longitude columns from the original DataFrame\n",
        "        mapped_data.drop(['pickup_longitude', 'pickup_latitude', 'dropoff_longitude', 'dropoff_latitude'], axis=1, inplace=True)\n",
        "\n",
        "        return mapped_data\n",
        "\n",
        "    except Exception as e:\n",
        "        print(f\"Error in mapping distance function: {str(e)}\")\n",
        "        return None"
      ]
    },
    {
      "cell_type": "markdown",
      "metadata": {
        "id": "iutgjQ4E8ktf"
      },
      "source": [
        "- Perform distance calculation (4 pts)"
      ]
    },
    {
      "cell_type": "code",
      "execution_count": 410,
      "metadata": {
        "colab": {
          "base_uri": "https://localhost:8080/"
        },
        "id": "4EyO-ke28ktf",
        "outputId": "379b32ba-1f8d-4bd3-df31-bb86efbdd90c"
      },
      "outputs": [
        {
          "name": "stdout",
          "output_type": "stream",
          "text": [
            "Original data shape: (155851, 10)\n",
            "Mapped data shape  : (155851, 7)\n"
          ]
        }
      ],
      "source": [
        "# Calculate the distance\n",
        "X_train_concat_fe = map_distance(data = X_train_concat)\n",
        "\n",
        "print(f\"Original data shape: {X_train_concat.shape}\")\n",
        "print(f\"Mapped data shape  : {X_train_concat_fe.shape}\")"
      ]
    },
    {
      "cell_type": "code",
      "execution_count": 411,
      "metadata": {
        "colab": {
          "base_uri": "https://localhost:8080/",
          "height": 238
        },
        "id": "dXADn7KYRWV3",
        "outputId": "9a348092-f676-4240-ba78-1f1fc6197d7b"
      },
      "outputs": [
        {
          "data": {
            "text/html": [
              "<div>\n",
              "<style scoped>\n",
              "    .dataframe tbody tr th:only-of-type {\n",
              "        vertical-align: middle;\n",
              "    }\n",
              "\n",
              "    .dataframe tbody tr th {\n",
              "        vertical-align: top;\n",
              "    }\n",
              "\n",
              "    .dataframe thead th {\n",
              "        text-align: right;\n",
              "    }\n",
              "</style>\n",
              "<table border=\"1\" class=\"dataframe\">\n",
              "  <thead>\n",
              "    <tr style=\"text-align: right;\">\n",
              "      <th></th>\n",
              "      <th>passenger_count</th>\n",
              "      <th>pickup_time_04-10</th>\n",
              "      <th>pickup_time_10-16</th>\n",
              "      <th>pickup_time_16-22</th>\n",
              "      <th>pickup_time_22-04</th>\n",
              "      <th>pickup_time_UNKNOWN</th>\n",
              "      <th>distance</th>\n",
              "    </tr>\n",
              "    <tr>\n",
              "      <th>order_id</th>\n",
              "      <th></th>\n",
              "      <th></th>\n",
              "      <th></th>\n",
              "      <th></th>\n",
              "      <th></th>\n",
              "      <th></th>\n",
              "      <th></th>\n",
              "    </tr>\n",
              "  </thead>\n",
              "  <tbody>\n",
              "    <tr>\n",
              "      <th>51655713</th>\n",
              "      <td>2.0</td>\n",
              "      <td>0.0</td>\n",
              "      <td>0.0</td>\n",
              "      <td>1.0</td>\n",
              "      <td>0.0</td>\n",
              "      <td>0.0</td>\n",
              "      <td>0.073766</td>\n",
              "    </tr>\n",
              "    <tr>\n",
              "      <th>37525839</th>\n",
              "      <td>5.0</td>\n",
              "      <td>0.0</td>\n",
              "      <td>0.0</td>\n",
              "      <td>1.0</td>\n",
              "      <td>0.0</td>\n",
              "      <td>0.0</td>\n",
              "      <td>0.008585</td>\n",
              "    </tr>\n",
              "    <tr>\n",
              "      <th>55058970</th>\n",
              "      <td>1.0</td>\n",
              "      <td>0.0</td>\n",
              "      <td>0.0</td>\n",
              "      <td>1.0</td>\n",
              "      <td>0.0</td>\n",
              "      <td>0.0</td>\n",
              "      <td>0.075901</td>\n",
              "    </tr>\n",
              "    <tr>\n",
              "      <th>15663447</th>\n",
              "      <td>6.0</td>\n",
              "      <td>0.0</td>\n",
              "      <td>1.0</td>\n",
              "      <td>0.0</td>\n",
              "      <td>0.0</td>\n",
              "      <td>0.0</td>\n",
              "      <td>0.007733</td>\n",
              "    </tr>\n",
              "    <tr>\n",
              "      <th>13325650</th>\n",
              "      <td>1.0</td>\n",
              "      <td>0.0</td>\n",
              "      <td>0.0</td>\n",
              "      <td>1.0</td>\n",
              "      <td>0.0</td>\n",
              "      <td>0.0</td>\n",
              "      <td>0.011140</td>\n",
              "    </tr>\n",
              "  </tbody>\n",
              "</table>\n",
              "</div>"
            ],
            "text/plain": [
              "          passenger_count  pickup_time_04-10  pickup_time_10-16  \\\n",
              "order_id                                                          \n",
              "51655713              2.0                0.0                0.0   \n",
              "37525839              5.0                0.0                0.0   \n",
              "55058970              1.0                0.0                0.0   \n",
              "15663447              6.0                0.0                1.0   \n",
              "13325650              1.0                0.0                0.0   \n",
              "\n",
              "          pickup_time_16-22  pickup_time_22-04  pickup_time_UNKNOWN  distance  \n",
              "order_id                                                                       \n",
              "51655713                1.0                0.0                  0.0  0.073766  \n",
              "37525839                1.0                0.0                  0.0  0.008585  \n",
              "55058970                1.0                0.0                  0.0  0.075901  \n",
              "15663447                0.0                0.0                  0.0  0.007733  \n",
              "13325650                1.0                0.0                  0.0  0.011140  "
            ]
          },
          "execution_count": 411,
          "metadata": {},
          "output_type": "execute_result"
        }
      ],
      "source": [
        "# Validate (JUST RUN THE CODE)\n",
        "X_train_concat_fe.head()"
      ]
    },
    {
      "cell_type": "markdown",
      "metadata": {
        "id": "p5D3MxPmReOv"
      },
      "source": [
        "- And finally, we standardize the data so that it can perform well during model optimization (4 pts)"
      ]
    },
    {
      "cell_type": "code",
      "execution_count": 412,
      "metadata": {},
      "outputs": [],
      "source": [
        "from sklearn.preprocessing import StandardScaler\n"
      ]
    },
    {
      "cell_type": "code",
      "execution_count": 413,
      "metadata": {
        "id": "s7Jq_KCcBMBu"
      },
      "outputs": [],
      "source": [
        "####################################################\n",
        "# Create two functions to perform scaling & transform scaling\n",
        "# The scaling is Standardization\n",
        "# The first function is to fit the scaler, called by fit_scaler\n",
        "# - You need an input, a data (pd.Dataframe)\n",
        "# - You create a standardization scaler (please use sklearn)\n",
        "# - Your output is the scaler\n",
        "#\n",
        "# The second function is to transform data using scaler, called by transform_scaler\n",
        "# - There are two inputs, a data (pd.Dataframe), a scaler (sklearn object)\n",
        "# - You scaled the data, then return the scaled data\n",
        "# Write your code here\n",
        "####################################################\n",
        "\n",
        "def fit_scaler(data):\n",
        "    \"\"\"\n",
        "    Fit a StandardScaler to the data.\n",
        "\n",
        "    Parameters:\n",
        "    - data: The input data (pd.DataFrame).\n",
        "\n",
        "    Returns:\n",
        "    - scaler: The fitted StandardScaler object.\n",
        "    \"\"\"\n",
        "    try:\n",
        "        scaler = StandardScaler()\n",
        "\n",
        "        scaler.fit(data)\n",
        "\n",
        "        return scaler\n",
        "    \n",
        "    except Exception as e:\n",
        "\n",
        "        print(f\"Error in standard scaler fit function: {str(e)}\")\n",
        "        \n",
        "        return None\n",
        "\n",
        "def transform_scaler(scaler, data):\n",
        "    \"\"\"\n",
        "    Transform the data using a fitted StandardScaler.\n",
        "\n",
        "    Parameters:\n",
        "    - scaler: The fitted StandardScaler object.\n",
        "    - data: The input data (pd.DataFrame) to be transformed.\n",
        "\n",
        "    Returns:\n",
        "    - scaled_data: The transformed data.\n",
        "    \"\"\"\n",
        "\n",
        "    try:\n",
        "        scaled_data = scaler.transform(data)\n",
        "\n",
        "        return pd.DataFrame(scaled_data, columns=data.columns, index=data.index)\n",
        "    \n",
        "    except Exception as e:\n",
        "\n",
        "        print(f\"Error in standard scaler transform function: {str(e)}\")\n",
        "\n",
        "        return None\n"
      ]
    },
    {
      "cell_type": "code",
      "execution_count": 414,
      "metadata": {
        "id": "H1ipNmwgB6V8"
      },
      "outputs": [],
      "source": [
        "# Fit the scaler\n",
        "scaler = fit_scaler(data = X_train_concat_fe)\n",
        "\n",
        "# Transform the scaler\n",
        "X_train_clean = transform_scaler(scaler = scaler, data = X_train_concat_fe)"
      ]
    },
    {
      "cell_type": "code",
      "execution_count": 415,
      "metadata": {
        "colab": {
          "base_uri": "https://localhost:8080/",
          "height": 300
        },
        "id": "OLeIPoDGTIlc",
        "outputId": "347126f6-54f4-4c34-dab0-d91aa81a2c61"
      },
      "outputs": [
        {
          "data": {
            "text/html": [
              "<div>\n",
              "<style scoped>\n",
              "    .dataframe tbody tr th:only-of-type {\n",
              "        vertical-align: middle;\n",
              "    }\n",
              "\n",
              "    .dataframe tbody tr th {\n",
              "        vertical-align: top;\n",
              "    }\n",
              "\n",
              "    .dataframe thead th {\n",
              "        text-align: right;\n",
              "    }\n",
              "</style>\n",
              "<table border=\"1\" class=\"dataframe\">\n",
              "  <thead>\n",
              "    <tr style=\"text-align: right;\">\n",
              "      <th></th>\n",
              "      <th>passenger_count</th>\n",
              "      <th>pickup_time_04-10</th>\n",
              "      <th>pickup_time_10-16</th>\n",
              "      <th>pickup_time_16-22</th>\n",
              "      <th>pickup_time_22-04</th>\n",
              "      <th>pickup_time_UNKNOWN</th>\n",
              "      <th>distance</th>\n",
              "    </tr>\n",
              "  </thead>\n",
              "  <tbody>\n",
              "    <tr>\n",
              "      <th>count</th>\n",
              "      <td>155851.0000</td>\n",
              "      <td>155851.0000</td>\n",
              "      <td>155851.0000</td>\n",
              "      <td>155851.0000</td>\n",
              "      <td>155851.0000</td>\n",
              "      <td>155851.0000</td>\n",
              "      <td>155851.0000</td>\n",
              "    </tr>\n",
              "    <tr>\n",
              "      <th>mean</th>\n",
              "      <td>-0.0000</td>\n",
              "      <td>0.0000</td>\n",
              "      <td>-0.0000</td>\n",
              "      <td>-0.0000</td>\n",
              "      <td>-0.0000</td>\n",
              "      <td>0.0000</td>\n",
              "      <td>-0.0000</td>\n",
              "    </tr>\n",
              "    <tr>\n",
              "      <th>std</th>\n",
              "      <td>1.0000</td>\n",
              "      <td>1.0000</td>\n",
              "      <td>1.0000</td>\n",
              "      <td>1.0000</td>\n",
              "      <td>1.0000</td>\n",
              "      <td>1.0000</td>\n",
              "      <td>1.0000</td>\n",
              "    </tr>\n",
              "    <tr>\n",
              "      <th>min</th>\n",
              "      <td>-0.5267</td>\n",
              "      <td>-0.4325</td>\n",
              "      <td>-0.6335</td>\n",
              "      <td>-0.6989</td>\n",
              "      <td>-0.5336</td>\n",
              "      <td>-0.0791</td>\n",
              "      <td>-0.0383</td>\n",
              "    </tr>\n",
              "    <tr>\n",
              "      <th>25%</th>\n",
              "      <td>-0.5267</td>\n",
              "      <td>-0.4325</td>\n",
              "      <td>-0.6335</td>\n",
              "      <td>-0.6989</td>\n",
              "      <td>-0.5336</td>\n",
              "      <td>-0.0791</td>\n",
              "      <td>-0.0340</td>\n",
              "    </tr>\n",
              "    <tr>\n",
              "      <th>50%</th>\n",
              "      <td>-0.5267</td>\n",
              "      <td>-0.4325</td>\n",
              "      <td>-0.6335</td>\n",
              "      <td>-0.6989</td>\n",
              "      <td>-0.5336</td>\n",
              "      <td>-0.0791</td>\n",
              "      <td>-0.0311</td>\n",
              "    </tr>\n",
              "    <tr>\n",
              "      <th>75%</th>\n",
              "      <td>0.2412</td>\n",
              "      <td>-0.4325</td>\n",
              "      <td>1.5786</td>\n",
              "      <td>1.4308</td>\n",
              "      <td>-0.5336</td>\n",
              "      <td>-0.0791</td>\n",
              "      <td>-0.0256</td>\n",
              "    </tr>\n",
              "    <tr>\n",
              "      <th>max</th>\n",
              "      <td>3.3130</td>\n",
              "      <td>2.3120</td>\n",
              "      <td>1.5786</td>\n",
              "      <td>1.4308</td>\n",
              "      <td>1.8739</td>\n",
              "      <td>12.6427</td>\n",
              "      <td>218.5245</td>\n",
              "    </tr>\n",
              "  </tbody>\n",
              "</table>\n",
              "</div>"
            ],
            "text/plain": [
              "       passenger_count  pickup_time_04-10  pickup_time_10-16  \\\n",
              "count      155851.0000        155851.0000        155851.0000   \n",
              "mean           -0.0000             0.0000            -0.0000   \n",
              "std             1.0000             1.0000             1.0000   \n",
              "min            -0.5267            -0.4325            -0.6335   \n",
              "25%            -0.5267            -0.4325            -0.6335   \n",
              "50%            -0.5267            -0.4325            -0.6335   \n",
              "75%             0.2412            -0.4325             1.5786   \n",
              "max             3.3130             2.3120             1.5786   \n",
              "\n",
              "       pickup_time_16-22  pickup_time_22-04  pickup_time_UNKNOWN     distance  \n",
              "count        155851.0000        155851.0000          155851.0000  155851.0000  \n",
              "mean             -0.0000            -0.0000               0.0000      -0.0000  \n",
              "std               1.0000             1.0000               1.0000       1.0000  \n",
              "min              -0.6989            -0.5336              -0.0791      -0.0383  \n",
              "25%              -0.6989            -0.5336              -0.0791      -0.0340  \n",
              "50%              -0.6989            -0.5336              -0.0791      -0.0311  \n",
              "75%               1.4308            -0.5336              -0.0791      -0.0256  \n",
              "max               1.4308             1.8739              12.6427     218.5245  "
            ]
          },
          "execution_count": 415,
          "metadata": {},
          "output_type": "execute_result"
        }
      ],
      "source": [
        "# Validate (JUST RUN THE CODE)\n",
        "X_train_clean.describe().round(4)"
      ]
    },
    {
      "cell_type": "markdown",
      "metadata": {
        "id": "QiJ-dDJ98ktg"
      },
      "source": [
        "Great!"
      ]
    },
    {
      "cell_type": "markdown",
      "metadata": {
        "id": "3oQY9GhDTUpI"
      },
      "source": [
        "#### 2.9. Create the preprocess function (10 pts)\n",
        "---"
      ]
    },
    {
      "cell_type": "markdown",
      "metadata": {
        "id": "08Q3aT2KTUpW"
      },
      "source": [
        "- Now, let's create a function to preprocess other set of data (valid & test) so that we can predict that"
      ]
    },
    {
      "cell_type": "code",
      "execution_count": 536,
      "metadata": {
        "id": "nle2MYzV2crW"
      },
      "outputs": [],
      "source": [
        "####################################################\n",
        "# Create a function to preprocess the dataset\n",
        "# You called the function preprocess_data\n",
        "# - It needs many input\n",
        "#   - data, pd.DataFrame\n",
        "#   - num_cols, the numerical columns, list\n",
        "#   - cat_cols, the categorical columns, list\n",
        "#   - num_imputer, the numerical imputer, sklearn object\n",
        "#   - cat_imputer, the categorical imputer, sklearn object\n",
        "#   - cat_encoder, the categorical encoder, sklearn object\n",
        "#   - scaler, the data scaler, sklearn object\n",
        "# - You preprocess the data following step 2.3 - 2.8\n",
        "# - You return the clean data\n",
        "#\n",
        "# Write your code here\n",
        "####################################################\n",
        "\n",
        "def preprocess_data(data, num_cols, cat_cols, num_imputer, cat_imputer, cat_encoder, scaler):\n",
        "    \"\"\" \n",
        "    This is a function to preprocess the dataset\n",
        "    Specs : -> data, pd.DataFrame\n",
        "            -> num_cols, the numerical columns, list\n",
        "            -> cat_cols, the categorical columns, list\n",
        "            -> num_imputer, the numerical imputer, sklearn object\n",
        "            -> cat_imputer, the categorical imputer, sklearn object\n",
        "            -> cat_encoder, the categorical encoder, sklearn object\n",
        "            -> scaler, the data scaler, sklearn object\n",
        "    \"\"\"\n",
        "    try:\n",
        "        \n",
        "        # 2.3 Pertama membuat splitting data numerical dan Categorical\n",
        "        numerical_data = data[num_cols]\n",
        "        categorical_data = data[cat_cols]\n",
        "\n",
        "        # 2.4 Membuat fungsi Numerical imputation (num_imputer)\n",
        "        # Membuat Imputer\n",
        "        num_imputer_trigger = num_imputer(numerical_data)\n",
        "        # Transform the numerical data\n",
        "        numerical_data_imputed = num_imputer_transform(data = numerical_data, imputer_numerical = num_imputer_trigger)\n",
        "\n",
        "        # 2.5 Membuat fungsi Categorical imputation (cat_imputer)\n",
        "        cat_imputer_trigger = cat_imputer(categorical_data)\n",
        "        # Transform the categorical data\n",
        "        categorical_data_imputed = cat_imputer_transform(imputer_categorical = cat_imputer_trigger, data = categorical_data)\n",
        "\n",
        "        # 2.6 Membuat fungsi fit & Transform OneHotEncoding into Categorical data\n",
        "        # Fit\n",
        "        cat_encoder_trigger = cat_encoder(categorical_data_imputed)\n",
        "        # Transform encoding OneHotEncoder\n",
        "        categorical_data_encoded = cat_encoder_transfrom(encoder = cat_encoder_trigger, data = categorical_data_imputed, column = 'pickup_time')\n",
        "        \n",
        "        # 2.7 membuat fungsi Concat data numerical imputed dengan categorical encoded\n",
        "        concat_num_cat_data = concat_data(num_data = numerical_data_imputed, cat_data = categorical_data_encoded)\n",
        "\n",
        "        # 2.8 Feature engineering (menghitung jarak dari titik berangkat ke titik sampai dengan Euclidean distance)\n",
        "        X_data_cleaned = map_distance(data = concat_num_cat_data)\n",
        "\n",
        "        # 2.8.2 And finally, we standardize the data so that it can perform well during model optimization (StandardScaler)\n",
        "        # Fit the standardscaler\n",
        "        standardscaler = scaler(data = X_data_cleaned)\n",
        "        # Transform the scaler\n",
        "        X_data_scaled = transform_scaler(scaler = standardscaler, data = concat_distance_data)\n",
        "\n",
        "        return numerical_data_imputed, categorical_data_imputed, categorical_data_encoded, concat_num_cat_data, X_data_cleaned, X_data_scaled\n",
        "\n",
        "    except Exception as e:\n",
        "          print(f\"Error in function: {str(e)}\")\n",
        "\n",
        "          return None"
      ]
    },
    {
      "cell_type": "code",
      "execution_count": 537,
      "metadata": {},
      "outputs": [],
      "source": [
        "X_train_num_tested, X_train_cat_tested, X_train_cat_encoded_tested, concat_num_cat_data, X_data_cleaned, X_data_scaled = preprocess_data(data = X_train, \n",
        "                                                         num_cols = X_train_num_columns, \n",
        "                                                         cat_cols = X_train_cat_columns,\n",
        "                                                         num_imputer = num_imputer_fit, \n",
        "                                                         cat_imputer = cat_imputer_fit,\n",
        "                                                         cat_encoder = cat_encoder_fit,\n",
        "                                                         scaler = fit_scaler)"
      ]
    },
    {
      "cell_type": "code",
      "execution_count": 533,
      "metadata": {},
      "outputs": [
        {
          "data": {
            "text/html": [
              "<div>\n",
              "<style scoped>\n",
              "    .dataframe tbody tr th:only-of-type {\n",
              "        vertical-align: middle;\n",
              "    }\n",
              "\n",
              "    .dataframe tbody tr th {\n",
              "        vertical-align: top;\n",
              "    }\n",
              "\n",
              "    .dataframe thead th {\n",
              "        text-align: right;\n",
              "    }\n",
              "</style>\n",
              "<table border=\"1\" class=\"dataframe\">\n",
              "  <thead>\n",
              "    <tr style=\"text-align: right;\">\n",
              "      <th></th>\n",
              "      <th>passenger_count</th>\n",
              "      <th>pickup_time_04-10</th>\n",
              "      <th>pickup_time_10-16</th>\n",
              "      <th>pickup_time_16-22</th>\n",
              "      <th>pickup_time_22-04</th>\n",
              "      <th>pickup_time_UNKNOWN</th>\n",
              "      <th>distance</th>\n",
              "    </tr>\n",
              "  </thead>\n",
              "  <tbody>\n",
              "    <tr>\n",
              "      <th>count</th>\n",
              "      <td>155851.0000</td>\n",
              "      <td>155851.0000</td>\n",
              "      <td>155851.0000</td>\n",
              "      <td>155851.0000</td>\n",
              "      <td>155851.0000</td>\n",
              "      <td>155851.0000</td>\n",
              "      <td>155851.0000</td>\n",
              "    </tr>\n",
              "    <tr>\n",
              "      <th>mean</th>\n",
              "      <td>-0.0000</td>\n",
              "      <td>0.0000</td>\n",
              "      <td>-0.0000</td>\n",
              "      <td>-0.0000</td>\n",
              "      <td>-0.0000</td>\n",
              "      <td>0.0000</td>\n",
              "      <td>-0.0000</td>\n",
              "    </tr>\n",
              "    <tr>\n",
              "      <th>std</th>\n",
              "      <td>1.0000</td>\n",
              "      <td>1.0000</td>\n",
              "      <td>1.0000</td>\n",
              "      <td>1.0000</td>\n",
              "      <td>1.0000</td>\n",
              "      <td>1.0000</td>\n",
              "      <td>1.0000</td>\n",
              "    </tr>\n",
              "    <tr>\n",
              "      <th>min</th>\n",
              "      <td>-0.5267</td>\n",
              "      <td>-0.4325</td>\n",
              "      <td>-0.6335</td>\n",
              "      <td>-0.6989</td>\n",
              "      <td>-0.5336</td>\n",
              "      <td>-0.0791</td>\n",
              "      <td>-0.0383</td>\n",
              "    </tr>\n",
              "    <tr>\n",
              "      <th>25%</th>\n",
              "      <td>-0.5267</td>\n",
              "      <td>-0.4325</td>\n",
              "      <td>-0.6335</td>\n",
              "      <td>-0.6989</td>\n",
              "      <td>-0.5336</td>\n",
              "      <td>-0.0791</td>\n",
              "      <td>-0.0340</td>\n",
              "    </tr>\n",
              "    <tr>\n",
              "      <th>50%</th>\n",
              "      <td>-0.5267</td>\n",
              "      <td>-0.4325</td>\n",
              "      <td>-0.6335</td>\n",
              "      <td>-0.6989</td>\n",
              "      <td>-0.5336</td>\n",
              "      <td>-0.0791</td>\n",
              "      <td>-0.0311</td>\n",
              "    </tr>\n",
              "    <tr>\n",
              "      <th>75%</th>\n",
              "      <td>0.2412</td>\n",
              "      <td>-0.4325</td>\n",
              "      <td>1.5786</td>\n",
              "      <td>1.4308</td>\n",
              "      <td>-0.5336</td>\n",
              "      <td>-0.0791</td>\n",
              "      <td>-0.0256</td>\n",
              "    </tr>\n",
              "    <tr>\n",
              "      <th>max</th>\n",
              "      <td>3.3130</td>\n",
              "      <td>2.3120</td>\n",
              "      <td>1.5786</td>\n",
              "      <td>1.4308</td>\n",
              "      <td>1.8739</td>\n",
              "      <td>12.6427</td>\n",
              "      <td>218.5245</td>\n",
              "    </tr>\n",
              "  </tbody>\n",
              "</table>\n",
              "</div>"
            ],
            "text/plain": [
              "       passenger_count  pickup_time_04-10  pickup_time_10-16  \\\n",
              "count      155851.0000        155851.0000        155851.0000   \n",
              "mean           -0.0000             0.0000            -0.0000   \n",
              "std             1.0000             1.0000             1.0000   \n",
              "min            -0.5267            -0.4325            -0.6335   \n",
              "25%            -0.5267            -0.4325            -0.6335   \n",
              "50%            -0.5267            -0.4325            -0.6335   \n",
              "75%             0.2412            -0.4325             1.5786   \n",
              "max             3.3130             2.3120             1.5786   \n",
              "\n",
              "       pickup_time_16-22  pickup_time_22-04  pickup_time_UNKNOWN     distance  \n",
              "count        155851.0000        155851.0000          155851.0000  155851.0000  \n",
              "mean             -0.0000            -0.0000               0.0000      -0.0000  \n",
              "std               1.0000             1.0000               1.0000       1.0000  \n",
              "min              -0.6989            -0.5336              -0.0791      -0.0383  \n",
              "25%              -0.6989            -0.5336              -0.0791      -0.0340  \n",
              "50%              -0.6989            -0.5336              -0.0791      -0.0311  \n",
              "75%               1.4308            -0.5336              -0.0791      -0.0256  \n",
              "max               1.4308             1.8739              12.6427     218.5245  "
            ]
          },
          "execution_count": 533,
          "metadata": {},
          "output_type": "execute_result"
        }
      ],
      "source": [
        "X_data_scaled.describe().round(4)"
      ]
    },
    {
      "cell_type": "code",
      "execution_count": null,
      "metadata": {},
      "outputs": [
        {
          "name": "stdout",
          "output_type": "stream",
          "text": [
            "0.7999989733797366\n",
            "0.09999794675947314\n",
            "0.1000030798607903\n"
          ]
        }
      ],
      "source": [
        "# Validate (JUST RUN THE CODE)\n",
        "print(len(X_train)/len(X))  # should be 0.8\n",
        "print(len(X_valid)/len(X))  # should be 0.1\n",
        "print(len(X_test)/len(X))   # should be 0.1"
      ]
    },
    {
      "cell_type": "code",
      "execution_count": null,
      "metadata": {},
      "outputs": [],
      "source": [
        "#X valid shape: (19481, 6)\n",
        "#y valid shape: (19481,)\n",
        "##X test shape: (19482, 6)\n",
        "#y test shape: (19482,)"
      ]
    },
    {
      "cell_type": "code",
      "execution_count": null,
      "metadata": {
        "colab": {
          "base_uri": "https://localhost:8080/"
        },
        "id": "bQ-MKqkLFgOD",
        "outputId": "8318bbfd-1f49-43a7-e187-fc9f523df746"
      },
      "outputs": [
        {
          "ename": "SyntaxError",
          "evalue": "invalid syntax (3193506559.py, line 2)",
          "output_type": "error",
          "traceback": [
            "\u001b[0;36m  Cell \u001b[0;32mIn[269], line 2\u001b[0;36m\u001b[0m\n\u001b[0;31m    X_train_clean = # WRITE YOUR CODE HERE\u001b[0m\n\u001b[0m                    ^\u001b[0m\n\u001b[0;31mSyntaxError\u001b[0m\u001b[0;31m:\u001b[0m invalid syntax\n"
          ]
        }
      ],
      "source": [
        "# Preprocess the data training again\n",
        "X_train_clean = # WRITE YOUR CODE HERE"
      ]
    },
    {
      "cell_type": "code",
      "execution_count": null,
      "metadata": {
        "colab": {
          "base_uri": "https://localhost:8080/"
        },
        "id": "6eSeFeQ5GDWb",
        "outputId": "3cf2ef0c-719f-4337-a188-d6cee615ee42"
      },
      "outputs": [],
      "source": [
        "# Validate (JUST RUN THE CODE)\n",
        "print('Original data shape:', X_train.shape)\n",
        "print('Cleaned data shape :', X_train_clean.shape)\n",
        "X_train_clean.head()"
      ]
    },
    {
      "cell_type": "code",
      "execution_count": null,
      "metadata": {
        "colab": {
          "base_uri": "https://localhost:8080/"
        },
        "id": "7_FpyWgVU5GH",
        "outputId": "5ee99cbd-959b-4934-ca11-04878a157ad7"
      },
      "outputs": [],
      "source": [
        "# Transform other set of data\n",
        "X_valid_clean = # WRITE YOUR CODE HERE\n",
        "X_test_clean = # WRITE YOUR CODE HERE"
      ]
    },
    {
      "cell_type": "markdown",
      "metadata": {
        "id": "9urW_teAVgRu"
      },
      "source": [
        "### 3. Training Machine Learning Models (40 pts)\n",
        "---"
      ]
    },
    {
      "cell_type": "markdown",
      "metadata": {
        "id": "ZQBCdRAVVgRv"
      },
      "source": [
        "```\n",
        "3.1 Prepare train & evaluate model function\n",
        "3.2 Train & evaluate several models\n",
        "3.3 Choose the best model\n",
        "```"
      ]
    },
    {
      "cell_type": "markdown",
      "metadata": {
        "id": "Oh66SXYnWcYo"
      },
      "source": [
        "#### 3.1. Preprare train & evaluate model function (10 pts)\n",
        "---"
      ]
    },
    {
      "cell_type": "markdown",
      "metadata": {
        "id": "ZSqSP6iyWiYf"
      },
      "source": [
        "- Before modeling, let's prepare function to train & evaluate model"
      ]
    },
    {
      "cell_type": "code",
      "execution_count": null,
      "metadata": {
        "id": "PXun1F0IWfjf"
      },
      "outputs": [],
      "source": [
        "####################################################\n",
        "# First, create a function to train model called train_model\n",
        "# - It needs 3 input\n",
        "#   - estimator, the model (sklearn model)\n",
        "#   - X_train, the input (pd.DataFrame)\n",
        "#   - y_train, the output (pd.DataFrame)\n",
        "# - You only fit the estimator using the X_train & y_train\n",
        "# - Then return nothing\n",
        "#\n",
        "# Next, create a function to evaluate model called evaluate_model\n",
        "# - It needs 5 input\n",
        "#   - estimator, the model (sklearn model)\n",
        "#   - X_train, the train input (pd.DataFrame)\n",
        "#   - y_train, the train output (pd.DataFrame)\n",
        "#   - X_valid, the valid input (pd.DataFrame)\n",
        "#   - y_valid, the valid output (pd.DataFrame)\n",
        "# - You calculate the model performance using root mean squared error metrics\n",
        "# - Then return two output, rmse_train and rmse_valid\n",
        "#\n",
        "# Write your code here\n",
        "####################################################\n"
      ]
    },
    {
      "cell_type": "markdown",
      "metadata": {
        "id": "eBXTMmkaZHfo"
      },
      "source": [
        "#### 3.2. Train and Evaluate Several Models (10 pts)\n",
        "---"
      ]
    },
    {
      "cell_type": "markdown",
      "metadata": {
        "id": "rwv-WpIvZHfp"
      },
      "source": [
        "- Now, let's train & evaluate several models\n",
        "- You should check, which one of the following model is the best model\n",
        "\n",
        "  1. Baseline model\n",
        "  2. k-NN with k=1\n",
        "  3. k-NN with k=100\n",
        "  4. k-NN with k=200\n",
        "  5. k-NN with k=500\n",
        "  6. k-NN with k=len(data)"
      ]
    },
    {
      "cell_type": "code",
      "execution_count": null,
      "metadata": {
        "id": "eZELHor_ZHfp"
      },
      "outputs": [],
      "source": [
        "####################################################\n",
        "# Create your model here (no need to create function)\n",
        "# Write your code here\n",
        "####################################################\n",
        "reg_1 = # Write your code here, follow the description\n",
        "reg_2 = # Write your code here, follow the description\n",
        "reg_3 = # Write your code here, follow the description\n",
        "reg_4 = # Write your code here, follow the description\n",
        "reg_5 = # Write your code here, follow the description\n",
        "reg_6 = # Write your code here, follow the description"
      ]
    },
    {
      "cell_type": "code",
      "execution_count": null,
      "metadata": {
        "id": "HElSDZRbZFOR"
      },
      "outputs": [],
      "source": [
        "# Train the model (JUST RUN THE CODE)\n",
        "train_model(reg_1, X_train_clean, y_train)\n",
        "train_model(reg_2, X_train_clean, y_train)\n",
        "train_model(reg_3, X_train_clean, y_train)\n",
        "train_model(reg_4, X_train_clean, y_train)\n",
        "train_model(reg_5, X_train_clean, y_train)\n",
        "train_model(reg_6, X_train_clean, y_train)"
      ]
    },
    {
      "cell_type": "code",
      "execution_count": null,
      "metadata": {
        "colab": {
          "base_uri": "https://localhost:8080/"
        },
        "id": "EK0Wkx66aRh8",
        "outputId": "3526563f-9bb3-4902-c2eb-5c57fd1c995f"
      },
      "outputs": [],
      "source": [
        "# Return validation (JUST RUN THE CODE)\n",
        "import time\n",
        "\n",
        "for reg in [reg_1, reg_2, reg_3, reg_4, reg_5, reg_6]:\n",
        "    t0 = time.time()\n",
        "\n",
        "    # Generate the rmse\n",
        "    rmse_train, rmse_valid = evaluate_model(estimator=reg,\n",
        "                                            X_train=X_train_clean,\n",
        "                                            y_train=y_train,\n",
        "                                            X_valid=X_valid_clean,\n",
        "                                            y_valid=y_valid)\n",
        "\n",
        "    # Logging\n",
        "    elapsed = time.time() - t0\n",
        "    print(f'model : {str(reg):40s} '\n",
        "          f'| RMSE train: {rmse_train:.4f} '\n",
        "          f'| RMSE valid: {rmse_valid:.4f} '\n",
        "          f'| Time elapsed: {elapsed*1000:.2f} ms')"
      ]
    },
    {
      "cell_type": "markdown",
      "metadata": {
        "id": "ER-CnCxlePhg"
      },
      "source": [
        "#### 3.3. Choose the best model (20 pts)\n",
        "---"
      ]
    },
    {
      "cell_type": "markdown",
      "metadata": {
        "id": "neVBHKi3ePhh"
      },
      "source": [
        "From the previous results, which one is the best model? (10 pts)"
      ]
    },
    {
      "cell_type": "markdown",
      "metadata": {
        "id": "bpOAgKZDeZzp"
      },
      "source": [
        "```\n",
        "Answer in this section (you can use bahasa)\n",
        "```"
      ]
    },
    {
      "cell_type": "markdown",
      "metadata": {
        "id": "IzZAZgtpegYd"
      },
      "source": [
        "Why do you choose that model? (10 pts)"
      ]
    },
    {
      "cell_type": "markdown",
      "metadata": {
        "id": "GtWV7CLhejjV"
      },
      "source": [
        "```\n",
        "Explain your answer in here (you can use bahasa)\n",
        "```"
      ]
    },
    {
      "cell_type": "markdown",
      "metadata": {
        "id": "wVZMoBjVetmx"
      },
      "source": [
        "And, create a `reg_best` to store the best model"
      ]
    },
    {
      "cell_type": "code",
      "execution_count": null,
      "metadata": {
        "id": "iYbdAYmNe0B9"
      },
      "outputs": [],
      "source": [
        "# Write your code here\n",
        "reg_best = # Write your code here"
      ]
    },
    {
      "cell_type": "markdown",
      "metadata": {
        "id": "cq6iq5FwesuD"
      },
      "source": [
        "### 4. Predictions & Evaluations (JUST RUN THE CODE)\n",
        "---"
      ]
    },
    {
      "cell_type": "markdown",
      "metadata": {
        "id": "So1UmURDesuD"
      },
      "source": [
        "```\n",
        "4.1 Predict & Evaluate on the Train Data\n",
        "4.2 Predict & Evaluate on the Test Data\n",
        "```"
      ]
    },
    {
      "cell_type": "markdown",
      "metadata": {
        "id": "u_qdHfkefA9I"
      },
      "source": [
        "#### 4.1. Predict & evaluate on train data\n",
        "---"
      ]
    },
    {
      "cell_type": "code",
      "execution_count": null,
      "metadata": {
        "id": "W_Tkv1IifKZd"
      },
      "outputs": [],
      "source": [
        "# Predict (JUST RUN THE CODE)\n",
        "y_train_pred = reg_best.predict(X_train_clean)"
      ]
    },
    {
      "cell_type": "code",
      "execution_count": null,
      "metadata": {
        "colab": {
          "base_uri": "https://localhost:8080/",
          "height": 472
        },
        "id": "Xd-YpUxnfRAL",
        "outputId": "952d669b-29cf-4147-cb1d-071c0e109061"
      },
      "outputs": [],
      "source": [
        "# Visualize & compare the prediction (JUST RUN THE CODE)\n",
        "plt.scatter(y_train, y_train_pred)\n",
        "\n",
        "plt.plot([0, 200], [0, 200], c='red')\n",
        "plt.xlim(0, 200); plt.ylim(0, 200)\n",
        "plt.xlabel('y actual'); plt.ylabel('y predicted')\n",
        "plt.title('Comparison of y actual vs y predicted on Train Data')\n",
        "plt.show()"
      ]
    },
    {
      "cell_type": "markdown",
      "metadata": {
        "id": "Q4V7-VcNfz02"
      },
      "source": [
        "#### 4.2. Predict & evaluate on test data\n",
        "---"
      ]
    },
    {
      "cell_type": "code",
      "execution_count": null,
      "metadata": {
        "id": "mNlcNnQIfz03"
      },
      "outputs": [],
      "source": [
        "# Predict (JUST RUN THE CODE)\n",
        "y_test_pred = reg_best.predict(X_test_clean)"
      ]
    },
    {
      "cell_type": "code",
      "execution_count": null,
      "metadata": {
        "colab": {
          "base_uri": "https://localhost:8080/",
          "height": 472
        },
        "id": "l3QE1IeTfz03",
        "outputId": "1a2e7e38-7ab1-443a-f843-39bcb1cd2b50"
      },
      "outputs": [],
      "source": [
        "# Visualize & compare the prediction (JUST RUN THE CODE)\n",
        "plt.scatter(y_test, y_test_pred)\n",
        "\n",
        "plt.plot([0, 200], [0, 200], c='red')\n",
        "plt.xlim(0, 200); plt.ylim(0, 200)\n",
        "plt.xlabel('y actual'); plt.ylabel('y predicted')\n",
        "plt.title('Comparison of y actual vs y predicted on Test Data')\n",
        "plt.show()"
      ]
    }
  ],
  "metadata": {
    "colab": {
      "collapsed_sections": [
        "x_OE7Mklz1Ci",
        "MPzQ-1Wz3lgP",
        "zO3YDDwc5qQ-",
        "wZ5rwYBA88lQ",
        "TSolzD9z_NOc",
        "1dyVifNK2fZA",
        "ICQiqto83TQ9",
        "e4PGfH5-7QRM",
        "VD93lAeX8ktW",
        "3oQY9GhDTUpI",
        "9urW_teAVgRu",
        "Oh66SXYnWcYo",
        "eBXTMmkaZHfo",
        "ER-CnCxlePhg",
        "u_qdHfkefA9I",
        "Q4V7-VcNfz02"
      ],
      "provenance": []
    },
    "kernelspec": {
      "display_name": "Python 3",
      "name": "python3"
    },
    "language_info": {
      "codemirror_mode": {
        "name": "ipython",
        "version": 3
      },
      "file_extension": ".py",
      "mimetype": "text/x-python",
      "name": "python",
      "nbconvert_exporter": "python",
      "pygments_lexer": "ipython3",
      "version": "3.11.6"
    }
  },
  "nbformat": 4,
  "nbformat_minor": 0
}
