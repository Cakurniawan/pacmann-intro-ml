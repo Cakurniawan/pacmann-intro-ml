{
 "cells": [
  {
   "cell_type": "markdown",
   "metadata": {},
   "source": [
    "# Mentoring 3 -- Classification Model (Credit Risk loan_status)\n",
    "---\n"
   ]
  },
  {
   "cell_type": "markdown",
   "metadata": {},
   "source": [
    "\n",
    "Mentoring Session - Job Preparation Program - Pacmann AI"
   ]
  },
  {
   "cell_type": "markdown",
   "metadata": {},
   "source": [
    "## Instructions\n",
    "---"
   ]
  },
  {
   "cell_type": "markdown",
   "metadata": {},
   "source": [
    "Credit Risk : The possibility of a loss resulting from a borrower's failur to repay a loan or meet contractial obligations.\n",
    "\n",
    "Task Description\n",
    "\n",
    "1. Case :\n",
    "- You are working as a data scientist in a risk analyst team in a finance industry.\n",
    "- your company generates profit by giving loans to customers\n",
    "- However, your company might suffer loss if the customer did not pay the loan back (we called it as default customer)\n",
    "- to minimize the loss, the simple thing to do is to prevent bad applicants (who later become a default customer) get the loan.\n",
    "- As a data scientist, you want to create a classifier model to classify good or bad applicants from the given customer data to minimize the potential loss\n",
    "\n",
    "2. Modeling task:\n",
    "- Task 1: Data preparation (score 30)\n",
    "    Load the dataset correctly.\n",
    "    Split the dataset for further tune the model & predict correctly.\n",
    "    Perform EDA and conclude the data preprocessing plan from that.\n",
    "    Perform data preprocessing according to plan.\n",
    "\n",
    "- Task 2: Modeling (45)\n",
    "    Define the metrics (you can use more than 1 metrics, just explain why) for optimizing the model.\n",
    "    Define your baseline model (explain why) and print out the score that you want to beat.\n",
    "    do a proper best model search & hyperparameter tuning (explain why you choose those models and why you choose those hyperparameter)\n",
    "    Define your best model (explain why).\n",
    "\n",
    "- Task 3: Model evaluation (score: 30)\n",
    "    how does your best model perform in the test data? is your best model good?\n",
    "    compare the financial impact between your best model & baseline model. is your best model better than the baseline model?\n",
    "    assumptions:\n",
    "\t    if you falsely predict good applicants as bad, you would lose potential revenue of RP 10.000.000/applicant on average.\n",
    "\t    if you falsely predict bad applicants as bad, you would lose RP 35.000.000/applicant on average."
   ]
  },
  {
   "cell_type": "markdown",
   "metadata": {},
   "source": [
    "## Dataset Description\n",
    "---"
   ]
  },
  {
   "cell_type": "markdown",
   "metadata": {},
   "source": [
    "**Note**\n",
    "\n",
    "- This dataset is downloaded from [Kaggle](https://www.kaggle.com/datasets/laotse/credit-risk-dataset)\n",
    "- The target variable is **loan_status (0 is non default, 1 is default)**\n"
   ]
  },
  {
   "cell_type": "markdown",
   "metadata": {},
   "source": [
    "**Description**\n",
    "- We're looking to predict the rent price of a house\n",
    "- The dataset contains of the following fields\n",
    "\n",
    "<center>\n",
    "\n",
    "|Feature|Type|Descriptions|\n",
    "|:--|:--|:--|\n",
    "|`person_age`|`int`|The age of the Customers|\n",
    "|`person_income`|`int`|The income customers|\n",
    "|`person_home_ownership`|`str`|Home ownership status can reflect stability and financial responsibility.|\n",
    "|`person_emp_length`|`int`|Employment length may indicate job stability and reliability in income|\n",
    "|`loan_intent`|`str`|Purpose of the loan can provide insights into the borrower's financial goals and intentions.|\n",
    "|`loan_grade`|`str`|Loan grade represents the credit risk associated with the loan.|\n",
    "|`loan_amnt`|`int`|Loan amount is the amount requested by the borrower and can affect repayment capability.|\n",
    "|`loan_int_rate`|`float`|Loan interest rate affects the total cost of the loan and repayment terms.|\n",
    "|`loan_percent_income`|`float`| The percentage of the loan amount relative to the borrower's income can indicate the borrower's debt burden.|\n",
    "\n",
    "\n",
    "**Exclusion:**\n",
    "|Feature|Type|Descriptions|\n",
    "|:--|:--|:--|\n",
    "|`cb_person_default_on_file`|`str`|-|\n",
    "|`cb_person_cred_hist_length`|`int`|The income customers|\n",
    "<center>"
   ]
  },
  {
   "cell_type": "markdown",
   "metadata": {},
   "source": [
    "## Modeling Workflow / Modeling Task\n",
    "---"
   ]
  },
  {
   "cell_type": "markdown",
   "metadata": {},
   "source": [
    "```\n",
    "1.1 Import data to Python\n",
    "1.2 Split the dataset into Input-Output data\n",
    "1.3 Split the dataset into Train-Valid-Test set\n",
    "1.4 Perform EDA on the dataset for data preprocessing plan.\n",
    "1.5 Explain the Plan and do the data preprocessing.\n",
    "```"
   ]
  },
  {
   "cell_type": "markdown",
   "metadata": {},
   "source": [
    "### 1.1 Import data to Python\n",
    "---"
   ]
  },
  {
   "cell_type": "code",
   "execution_count": 2,
   "metadata": {},
   "outputs": [
    {
     "name": "stderr",
     "output_type": "stream",
     "text": [
      "/var/folders/t3/fw9vwjtx1nx7g5w7l0fsjtw80000gp/T/ipykernel_36259/4078079578.py:5: DeprecationWarning: \n",
      "Pyarrow will become a required dependency of pandas in the next major release of pandas (pandas 3.0),\n",
      "(to allow more performant data types, such as the Arrow string type, and better interoperability with other libraries)\n",
      "but was not found to be installed on your system.\n",
      "If this would cause problems for you,\n",
      "please provide us feedback at https://github.com/pandas-dev/pandas/issues/54466\n",
      "        \n",
      "  import pandas as pd\n"
     ]
    }
   ],
   "source": [
    "####################################################\n",
    "# Import Numpy and Pandas library\n",
    "####################################################\n",
    "import numpy as np\n",
    "import pandas as pd\n",
    "\n",
    "# Import train-test splitting library dari sklearn (scikit learn)\n",
    "from sklearn.model_selection import train_test_split"
   ]
  },
  {
   "cell_type": "code",
   "execution_count": 110,
   "metadata": {},
   "outputs": [],
   "source": [
    "####################################################\n",
    "# Create a function named read_data\n",
    "# - Has an input of filename, i.e. fname\n",
    "# - Read the data as a Pandas DataFrame\n",
    "# - Drop duplicate on `url`, keep the last ones\n",
    "# - Drop col `names` and `url`\n",
    "# - Print the data shape\n",
    "# - Return the dataset\n",
    "# Write your code here (4 pts)\n",
    "####################################################\n",
    "def read_data(fname):\n",
    "    \"\"\" \n",
    "    This function for import data into pandas dataframe,\n",
    "    for later to be trained into a model Machine Learning\n",
    "\n",
    "    Candra Kurniawan | Pacmann AI 2024.\n",
    "    \n",
    "    \"\"\"\n",
    "    # Import the data from local computer into dataframe\n",
    "\n",
    "    # mencari file dengan kata belakang .xlsx\n",
    "    if fname.endswith('.xlsx'):\n",
    "        df = pd.read_excel(fname)\n",
    "\n",
    "    # mencari file dengan kata belakang .csv\n",
    "    elif fname.endswith('.csv'):\n",
    "        df = pd.read_csv(fname, sep = ',')\n",
    "\n",
    "    # jika tidak ada file xlsx dan csv maka akan Raise Error\n",
    "    else:\n",
    "        raise ValueError(f\"File tidak ditemukan {fname} harus berbentuk .xlsx atau .csv\")\n",
    "\n",
    "    # drop the columns that we did not need to include in Training the model\n",
    "    df.drop(columns=['cb_person_default_on_file'], inplace=True)\n",
    "    df.drop(columns=['cb_person_cred_hist_length'], inplace=True)\n",
    "    \n",
    "    # drop duplicate data with subset = 'person_age' and keep last data\n",
    "    df.drop_duplicates(keep='last', inplace=True)\n",
    "    \n",
    "    return df"
   ]
  },
  {
   "cell_type": "code",
   "execution_count": 111,
   "metadata": {},
   "outputs": [],
   "source": [
    "# Read the credit-risk data\n",
    "data = read_data(fname='credit_risk_dataset.csv')"
   ]
  },
  {
   "cell_type": "code",
   "execution_count": 112,
   "metadata": {},
   "outputs": [
    {
     "data": {
      "text/html": [
       "<div>\n",
       "<style scoped>\n",
       "    .dataframe tbody tr th:only-of-type {\n",
       "        vertical-align: middle;\n",
       "    }\n",
       "\n",
       "    .dataframe tbody tr th {\n",
       "        vertical-align: top;\n",
       "    }\n",
       "\n",
       "    .dataframe thead th {\n",
       "        text-align: right;\n",
       "    }\n",
       "</style>\n",
       "<table border=\"1\" class=\"dataframe\">\n",
       "  <thead>\n",
       "    <tr style=\"text-align: right;\">\n",
       "      <th></th>\n",
       "      <th>person_age</th>\n",
       "      <th>person_income</th>\n",
       "      <th>person_home_ownership</th>\n",
       "      <th>person_emp_length</th>\n",
       "      <th>loan_intent</th>\n",
       "      <th>loan_grade</th>\n",
       "      <th>loan_amnt</th>\n",
       "      <th>loan_int_rate</th>\n",
       "      <th>loan_status</th>\n",
       "      <th>loan_percent_income</th>\n",
       "    </tr>\n",
       "  </thead>\n",
       "  <tbody>\n",
       "    <tr>\n",
       "      <th>0</th>\n",
       "      <td>22</td>\n",
       "      <td>59000</td>\n",
       "      <td>RENT</td>\n",
       "      <td>123.0</td>\n",
       "      <td>PERSONAL</td>\n",
       "      <td>D</td>\n",
       "      <td>35000</td>\n",
       "      <td>16.02</td>\n",
       "      <td>1</td>\n",
       "      <td>0.59</td>\n",
       "    </tr>\n",
       "    <tr>\n",
       "      <th>1</th>\n",
       "      <td>21</td>\n",
       "      <td>9600</td>\n",
       "      <td>OWN</td>\n",
       "      <td>5.0</td>\n",
       "      <td>EDUCATION</td>\n",
       "      <td>B</td>\n",
       "      <td>1000</td>\n",
       "      <td>11.14</td>\n",
       "      <td>0</td>\n",
       "      <td>0.10</td>\n",
       "    </tr>\n",
       "    <tr>\n",
       "      <th>2</th>\n",
       "      <td>25</td>\n",
       "      <td>9600</td>\n",
       "      <td>MORTGAGE</td>\n",
       "      <td>1.0</td>\n",
       "      <td>MEDICAL</td>\n",
       "      <td>C</td>\n",
       "      <td>5500</td>\n",
       "      <td>12.87</td>\n",
       "      <td>1</td>\n",
       "      <td>0.57</td>\n",
       "    </tr>\n",
       "    <tr>\n",
       "      <th>3</th>\n",
       "      <td>23</td>\n",
       "      <td>65500</td>\n",
       "      <td>RENT</td>\n",
       "      <td>4.0</td>\n",
       "      <td>MEDICAL</td>\n",
       "      <td>C</td>\n",
       "      <td>35000</td>\n",
       "      <td>15.23</td>\n",
       "      <td>1</td>\n",
       "      <td>0.53</td>\n",
       "    </tr>\n",
       "    <tr>\n",
       "      <th>4</th>\n",
       "      <td>24</td>\n",
       "      <td>54400</td>\n",
       "      <td>RENT</td>\n",
       "      <td>8.0</td>\n",
       "      <td>MEDICAL</td>\n",
       "      <td>C</td>\n",
       "      <td>35000</td>\n",
       "      <td>14.27</td>\n",
       "      <td>1</td>\n",
       "      <td>0.55</td>\n",
       "    </tr>\n",
       "  </tbody>\n",
       "</table>\n",
       "</div>"
      ],
      "text/plain": [
       "   person_age  person_income person_home_ownership  person_emp_length  \\\n",
       "0          22          59000                  RENT              123.0   \n",
       "1          21           9600                   OWN                5.0   \n",
       "2          25           9600              MORTGAGE                1.0   \n",
       "3          23          65500                  RENT                4.0   \n",
       "4          24          54400                  RENT                8.0   \n",
       "\n",
       "  loan_intent loan_grade  loan_amnt  loan_int_rate  loan_status  \\\n",
       "0    PERSONAL          D      35000          16.02            1   \n",
       "1   EDUCATION          B       1000          11.14            0   \n",
       "2     MEDICAL          C       5500          12.87            1   \n",
       "3     MEDICAL          C      35000          15.23            1   \n",
       "4     MEDICAL          C      35000          14.27            1   \n",
       "\n",
       "   loan_percent_income  \n",
       "0                 0.59  \n",
       "1                 0.10  \n",
       "2                 0.57  \n",
       "3                 0.53  \n",
       "4                 0.55  "
      ]
     },
     "execution_count": 112,
     "metadata": {},
     "output_type": "execute_result"
    }
   ],
   "source": [
    "# show the dataset in pd.DataFrame\n",
    "data.head()"
   ]
  },
  {
   "cell_type": "code",
   "execution_count": 113,
   "metadata": {},
   "outputs": [
    {
     "data": {
      "text/plain": [
       "(31879, 10)"
      ]
     },
     "execution_count": 113,
     "metadata": {},
     "output_type": "execute_result"
    }
   ],
   "source": [
    "# check the data shape always\n",
    "data.shape"
   ]
  },
  {
   "cell_type": "code",
   "execution_count": 114,
   "metadata": {},
   "outputs": [
    {
     "data": {
      "text/plain": [
       "0"
      ]
     },
     "execution_count": 114,
     "metadata": {},
     "output_type": "execute_result"
    }
   ],
   "source": [
    "data.duplicated().sum()"
   ]
  },
  {
   "cell_type": "code",
   "execution_count": 115,
   "metadata": {},
   "outputs": [
    {
     "data": {
      "text/plain": [
       "(31879, 10)"
      ]
     },
     "execution_count": 115,
     "metadata": {},
     "output_type": "execute_result"
    }
   ],
   "source": [
    "# check the data shape always\n",
    "data.shape"
   ]
  },
  {
   "cell_type": "markdown",
   "metadata": {},
   "source": [
    "### 1.2 Split the dataset into input and output.\n",
    "---"
   ]
  },
  {
   "cell_type": "markdown",
   "metadata": {},
   "source": [
    "Split into input and output dataset."
   ]
  },
  {
   "cell_type": "markdown",
   "metadata": {},
   "source": [
    "- We're going to split input & output according to the modeling objective.\n",
    "- Create a function to split the input & output"
   ]
  },
  {
   "cell_type": "code",
   "execution_count": 116,
   "metadata": {},
   "outputs": [],
   "source": [
    "####################################################\n",
    "# Create a function named split_input_output\n",
    "# - Has two arguments\n",
    "#   - data, a pd Dataframe\n",
    "#   - target_col, a column (str)\n",
    "# - Print the data shape after splitting\n",
    "# - Return X, y\n",
    "####################################################\n",
    "\n",
    "def split_input_output(data, target_col):\n",
    "    \"\"\"  \n",
    "    This function for splitting data into input for train data (X) \n",
    "    and output for target/predict data (y).\n",
    "\n",
    "    Specs : -> has two arguments\n",
    "                1. data (pd.DataFrame)\n",
    "                2. target_col (column pandas)\n",
    "            -> Print the data.shape after splitting\n",
    "            -> Then, Returning the value of X and y\n",
    "\n",
    "    Returning : -> Data input that will be trained further in (X)\n",
    "                -> And data target output that will be performed analysis/predict in (y).\n",
    "\n",
    "    \"\"\"\n",
    "    # Splitting the data into input (X) and output (y)\n",
    "    X = data.drop(target_col, axis = 1)\n",
    "    y = data[target_col]\n",
    "\n",
    "    # Print the shape of the data after splitting\n",
    "    print(f\"X shape: {X.shape}\")\n",
    "    print(f\"y shape: {y.shape}\")\n",
    "\n",
    "    return X, y"
   ]
  },
  {
   "cell_type": "code",
   "execution_count": 117,
   "metadata": {},
   "outputs": [
    {
     "name": "stdout",
     "output_type": "stream",
     "text": [
      "X shape: (31879, 9)\n",
      "y shape: (31879,)\n"
     ]
    }
   ],
   "source": [
    "# Load the train data only (JUST RUN THE CODE)\n",
    "X, y = split_input_output(data=data,\n",
    "                          target_col='loan_status')"
   ]
  },
  {
   "cell_type": "code",
   "execution_count": 118,
   "metadata": {},
   "outputs": [
    {
     "data": {
      "text/plain": [
       "person_age                  0\n",
       "person_income               0\n",
       "person_home_ownership       0\n",
       "person_emp_length         875\n",
       "loan_intent                 0\n",
       "loan_grade                  0\n",
       "loan_amnt                   0\n",
       "loan_int_rate            3050\n",
       "loan_status                 0\n",
       "loan_percent_income         0\n",
       "dtype: int64"
      ]
     },
     "execution_count": 118,
     "metadata": {},
     "output_type": "execute_result"
    }
   ],
   "source": [
    "# Melakukan check apakah terdapat missing values pada dataframe\n",
    "data.isna().sum() "
   ]
  },
  {
   "cell_type": "code",
   "execution_count": 119,
   "metadata": {},
   "outputs": [
    {
     "data": {
      "text/html": [
       "<div>\n",
       "<style scoped>\n",
       "    .dataframe tbody tr th:only-of-type {\n",
       "        vertical-align: middle;\n",
       "    }\n",
       "\n",
       "    .dataframe tbody tr th {\n",
       "        vertical-align: top;\n",
       "    }\n",
       "\n",
       "    .dataframe thead th {\n",
       "        text-align: right;\n",
       "    }\n",
       "</style>\n",
       "<table border=\"1\" class=\"dataframe\">\n",
       "  <thead>\n",
       "    <tr style=\"text-align: right;\">\n",
       "      <th></th>\n",
       "      <th>person_age</th>\n",
       "      <th>person_income</th>\n",
       "      <th>person_home_ownership</th>\n",
       "      <th>person_emp_length</th>\n",
       "      <th>loan_intent</th>\n",
       "      <th>loan_grade</th>\n",
       "      <th>loan_amnt</th>\n",
       "      <th>loan_int_rate</th>\n",
       "      <th>loan_percent_income</th>\n",
       "    </tr>\n",
       "  </thead>\n",
       "  <tbody>\n",
       "    <tr>\n",
       "      <th>0</th>\n",
       "      <td>22</td>\n",
       "      <td>59000</td>\n",
       "      <td>RENT</td>\n",
       "      <td>123.0</td>\n",
       "      <td>PERSONAL</td>\n",
       "      <td>D</td>\n",
       "      <td>35000</td>\n",
       "      <td>16.02</td>\n",
       "      <td>0.59</td>\n",
       "    </tr>\n",
       "    <tr>\n",
       "      <th>1</th>\n",
       "      <td>21</td>\n",
       "      <td>9600</td>\n",
       "      <td>OWN</td>\n",
       "      <td>5.0</td>\n",
       "      <td>EDUCATION</td>\n",
       "      <td>B</td>\n",
       "      <td>1000</td>\n",
       "      <td>11.14</td>\n",
       "      <td>0.10</td>\n",
       "    </tr>\n",
       "    <tr>\n",
       "      <th>2</th>\n",
       "      <td>25</td>\n",
       "      <td>9600</td>\n",
       "      <td>MORTGAGE</td>\n",
       "      <td>1.0</td>\n",
       "      <td>MEDICAL</td>\n",
       "      <td>C</td>\n",
       "      <td>5500</td>\n",
       "      <td>12.87</td>\n",
       "      <td>0.57</td>\n",
       "    </tr>\n",
       "    <tr>\n",
       "      <th>3</th>\n",
       "      <td>23</td>\n",
       "      <td>65500</td>\n",
       "      <td>RENT</td>\n",
       "      <td>4.0</td>\n",
       "      <td>MEDICAL</td>\n",
       "      <td>C</td>\n",
       "      <td>35000</td>\n",
       "      <td>15.23</td>\n",
       "      <td>0.53</td>\n",
       "    </tr>\n",
       "    <tr>\n",
       "      <th>4</th>\n",
       "      <td>24</td>\n",
       "      <td>54400</td>\n",
       "      <td>RENT</td>\n",
       "      <td>8.0</td>\n",
       "      <td>MEDICAL</td>\n",
       "      <td>C</td>\n",
       "      <td>35000</td>\n",
       "      <td>14.27</td>\n",
       "      <td>0.55</td>\n",
       "    </tr>\n",
       "  </tbody>\n",
       "</table>\n",
       "</div>"
      ],
      "text/plain": [
       "   person_age  person_income person_home_ownership  person_emp_length  \\\n",
       "0          22          59000                  RENT              123.0   \n",
       "1          21           9600                   OWN                5.0   \n",
       "2          25           9600              MORTGAGE                1.0   \n",
       "3          23          65500                  RENT                4.0   \n",
       "4          24          54400                  RENT                8.0   \n",
       "\n",
       "  loan_intent loan_grade  loan_amnt  loan_int_rate  loan_percent_income  \n",
       "0    PERSONAL          D      35000          16.02                 0.59  \n",
       "1   EDUCATION          B       1000          11.14                 0.10  \n",
       "2     MEDICAL          C       5500          12.87                 0.57  \n",
       "3     MEDICAL          C      35000          15.23                 0.53  \n",
       "4     MEDICAL          C      35000          14.27                 0.55  "
      ]
     },
     "execution_count": 119,
     "metadata": {},
     "output_type": "execute_result"
    }
   ],
   "source": [
    "# Check data Input with .head() function\n",
    "X.head()"
   ]
  },
  {
   "cell_type": "code",
   "execution_count": 122,
   "metadata": {},
   "outputs": [
    {
     "data": {
      "text/plain": [
       "0    1\n",
       "1    0\n",
       "2    1\n",
       "3    1\n",
       "4    1\n",
       "Name: loan_status, dtype: int64"
      ]
     },
     "execution_count": 122,
     "metadata": {},
     "output_type": "execute_result"
    }
   ],
   "source": [
    "# Check data output with .head() function\n",
    "y.head()"
   ]
  },
  {
   "cell_type": "code",
   "execution_count": 124,
   "metadata": {},
   "outputs": [
    {
     "data": {
      "text/plain": [
       "loan_status\n",
       "0    0.781518\n",
       "1    0.218482\n",
       "Name: proportion, dtype: float64"
      ]
     },
     "execution_count": 124,
     "metadata": {},
     "output_type": "execute_result"
    }
   ],
   "source": [
    "# Let's check the proportion of out target output\n",
    "# so we can check is it balance or imbalance the target output data.\n",
    "\n",
    "y.value_counts(normalize=True)"
   ]
  },
  {
   "cell_type": "markdown",
   "metadata": {},
   "source": [
    "### 1.3 Split the dataset into Train-Valid-Test sets.\n",
    "---"
   ]
  },
  {
   "cell_type": "markdown",
   "metadata": {},
   "source": [
    "Split into Train-valid-test set\n",
    "\n",
    "We want to split the data into three set:\n",
    "- Train, for training the model\n",
    "- Validation, for choosing the best model\n",
    "- Test, for error generalization\n",
    "\n",
    "The proportion to make the splitting data is train-set (80%), valid-set (10%), and test-set (10%)."
   ]
  },
  {
   "cell_type": "code",
   "execution_count": 126,
   "metadata": {},
   "outputs": [],
   "source": [
    "####################################################\n",
    "# Create a function named split_train_test\n",
    "# - Has two arguments\n",
    "#   - X, the input (pd.Dataframe)\n",
    "#   - y, the output (pd.Dataframe)\n",
    "#   - test_size, the test size between 0-1 (float)\n",
    "#   - seed, the random state (int)\n",
    "# - Print the data shape after splitting\n",
    "# - Return X_train, X_test, y_train, y_test\n",
    "# - You can use an sklearn library to help you\n",
    "####################################################\n",
    "\n",
    "def split_train_test(X, y, test_size, seed):\n",
    "    \"\"\"  \n",
    "    This function for splitting the input and output data into\n",
    "    Training, validation, and test dataset.\n",
    "\n",
    "    Specs : -> Has four arguments:\n",
    "                1. X = the input (pd.DataFrame)\n",
    "                2. y = the output (pd.DataFrame)\n",
    "                3. test_size = the test size between 0 - 1 (float)\n",
    "                4. seed = the random state (int)\n",
    "                5. stratify = This arguments is used for representative our \n",
    "                    imbalance output dataset. we set it (y) the output data.\n",
    "            -> Print the data shape after splitting\n",
    "            -> Then return the X_train, X_test, y_train, y_test\n",
    "\n",
    "    Returning : X_train -> data input as (X) for training data\n",
    "                X_test -> data input as (X) for test data\n",
    "                y_train -> data output as (y) for training data\n",
    "                y_test -> data output as (y) for test data\n",
    "    \"\"\"\n",
    "    X_train, X_test, y_train, y_test = train_test_split(X, y, \n",
    "                                                        test_size = test_size, \n",
    "                                                        random_state = seed,\n",
    "                                                        stratify=y)\n",
    "    return X_train, X_test, y_train, y_test\n"
   ]
  },
  {
   "cell_type": "code",
   "execution_count": 128,
   "metadata": {},
   "outputs": [
    {
     "name": "stdout",
     "output_type": "stream",
     "text": [
      "X train shape: (25503, 9)\n",
      "y train shape: (25503,)\n",
      "X test shape: (6376, 9)\n",
      "y test shape: (6376,)\n",
      "\n",
      "X valid shape: (3188, 9)\n",
      "y valid shape: (3188,)\n",
      "X test shape: (3188, 9)\n",
      "y test shape: (3188,)\n"
     ]
    }
   ],
   "source": [
    "# Splitting the dataset into training set\n",
    "# Then split again 10% into valid and test set\n",
    "\n",
    "# First, split the train & not train\n",
    "X_train, X_not_train, y_train, y_not_train = split_train_test(X, y, 0.2, 123)\n",
    "\n",
    "# Then, split the valid & test\n",
    "X_valid, X_test, y_valid, y_test = split_train_test(X_not_train, y_not_train, 0.5, 123)\n",
    "\n",
    "print(f\"X train shape: {X_train.shape}\")\n",
    "print(f\"y train shape: {y_train.shape}\")\n",
    "print(f\"X test shape: {X_not_train.shape}\")\n",
    "print(f\"y test shape: {y_not_train.shape}\")\n",
    "print('')\n",
    "print(f\"X valid shape: {X_valid.shape}\")\n",
    "print(f\"y valid shape: {y_valid.shape}\")\n",
    "print(f\"X test shape: {X_test.shape}\")\n",
    "print(f\"y test shape: {y_test.shape}\")"
   ]
  },
  {
   "cell_type": "code",
   "execution_count": 130,
   "metadata": {},
   "outputs": [
    {
     "name": "stdout",
     "output_type": "stream",
     "text": [
      "0.7999937262774868\n",
      "0.10000313686125663\n",
      "0.10000313686125663\n"
     ]
    }
   ],
   "source": [
    "# Validate our proportion train, valid, and test sets.\n",
    "# Train-data (80%) , Valid-data (10%), Test-data (10%)\n",
    "print(len(X_train)/len(X))  # should be 0.8\n",
    "print(len(X_valid)/len(X))  # should be 0.1\n",
    "print(len(X_test)/len(X))   # should be 0.1"
   ]
  },
  {
   "cell_type": "code",
   "execution_count": 132,
   "metadata": {},
   "outputs": [
    {
     "data": {
      "text/html": [
       "<div>\n",
       "<style scoped>\n",
       "    .dataframe tbody tr th:only-of-type {\n",
       "        vertical-align: middle;\n",
       "    }\n",
       "\n",
       "    .dataframe tbody tr th {\n",
       "        vertical-align: top;\n",
       "    }\n",
       "\n",
       "    .dataframe thead th {\n",
       "        text-align: right;\n",
       "    }\n",
       "</style>\n",
       "<table border=\"1\" class=\"dataframe\">\n",
       "  <thead>\n",
       "    <tr style=\"text-align: right;\">\n",
       "      <th></th>\n",
       "      <th>person_age</th>\n",
       "      <th>person_income</th>\n",
       "      <th>person_home_ownership</th>\n",
       "      <th>person_emp_length</th>\n",
       "      <th>loan_intent</th>\n",
       "      <th>loan_grade</th>\n",
       "      <th>loan_amnt</th>\n",
       "      <th>loan_int_rate</th>\n",
       "      <th>loan_percent_income</th>\n",
       "    </tr>\n",
       "  </thead>\n",
       "  <tbody>\n",
       "    <tr>\n",
       "      <th>16209</th>\n",
       "      <td>22</td>\n",
       "      <td>16800</td>\n",
       "      <td>MORTGAGE</td>\n",
       "      <td>0.0</td>\n",
       "      <td>DEBTCONSOLIDATION</td>\n",
       "      <td>C</td>\n",
       "      <td>4750</td>\n",
       "      <td>13.85</td>\n",
       "      <td>0.28</td>\n",
       "    </tr>\n",
       "    <tr>\n",
       "      <th>774</th>\n",
       "      <td>23</td>\n",
       "      <td>84000</td>\n",
       "      <td>RENT</td>\n",
       "      <td>7.0</td>\n",
       "      <td>PERSONAL</td>\n",
       "      <td>B</td>\n",
       "      <td>20000</td>\n",
       "      <td>11.11</td>\n",
       "      <td>0.24</td>\n",
       "    </tr>\n",
       "    <tr>\n",
       "      <th>24870</th>\n",
       "      <td>30</td>\n",
       "      <td>77500</td>\n",
       "      <td>MORTGAGE</td>\n",
       "      <td>2.0</td>\n",
       "      <td>DEBTCONSOLIDATION</td>\n",
       "      <td>A</td>\n",
       "      <td>9000</td>\n",
       "      <td>7.88</td>\n",
       "      <td>0.12</td>\n",
       "    </tr>\n",
       "    <tr>\n",
       "      <th>24664</th>\n",
       "      <td>28</td>\n",
       "      <td>68496</td>\n",
       "      <td>RENT</td>\n",
       "      <td>8.0</td>\n",
       "      <td>PERSONAL</td>\n",
       "      <td>B</td>\n",
       "      <td>10000</td>\n",
       "      <td>NaN</td>\n",
       "      <td>0.15</td>\n",
       "    </tr>\n",
       "    <tr>\n",
       "      <th>22909</th>\n",
       "      <td>29</td>\n",
       "      <td>60000</td>\n",
       "      <td>MORTGAGE</td>\n",
       "      <td>2.0</td>\n",
       "      <td>HOMEIMPROVEMENT</td>\n",
       "      <td>C</td>\n",
       "      <td>6000</td>\n",
       "      <td>13.49</td>\n",
       "      <td>0.10</td>\n",
       "    </tr>\n",
       "  </tbody>\n",
       "</table>\n",
       "</div>"
      ],
      "text/plain": [
       "       person_age  person_income person_home_ownership  person_emp_length  \\\n",
       "16209          22          16800              MORTGAGE                0.0   \n",
       "774            23          84000                  RENT                7.0   \n",
       "24870          30          77500              MORTGAGE                2.0   \n",
       "24664          28          68496                  RENT                8.0   \n",
       "22909          29          60000              MORTGAGE                2.0   \n",
       "\n",
       "             loan_intent loan_grade  loan_amnt  loan_int_rate  \\\n",
       "16209  DEBTCONSOLIDATION          C       4750          13.85   \n",
       "774             PERSONAL          B      20000          11.11   \n",
       "24870  DEBTCONSOLIDATION          A       9000           7.88   \n",
       "24664           PERSONAL          B      10000            NaN   \n",
       "22909    HOMEIMPROVEMENT          C       6000          13.49   \n",
       "\n",
       "       loan_percent_income  \n",
       "16209                 0.28  \n",
       "774                   0.24  \n",
       "24870                 0.12  \n",
       "24664                 0.15  \n",
       "22909                 0.10  "
      ]
     },
     "execution_count": 132,
     "metadata": {},
     "output_type": "execute_result"
    }
   ],
   "source": [
    "# Check out input Train dataset\n",
    "X_train.head()"
   ]
  },
  {
   "cell_type": "code",
   "execution_count": 133,
   "metadata": {},
   "outputs": [
    {
     "data": {
      "text/plain": [
       "16209    1\n",
       "774      0\n",
       "24870    0\n",
       "24664    0\n",
       "22909    0\n",
       "Name: loan_status, dtype: int64"
      ]
     },
     "execution_count": 133,
     "metadata": {},
     "output_type": "execute_result"
    }
   ],
   "source": [
    "# Check out output Train dataset\n",
    "y_train.head()"
   ]
  },
  {
   "cell_type": "markdown",
   "metadata": {},
   "source": [
    "#### 1.4 Perform EDA before Preprocessing\n",
    "---"
   ]
  },
  {
   "cell_type": "markdown",
   "metadata": {},
   "source": [
    "Before training the model, we may need to perform preprocessing steps such as: \n",
    " - handling missing values, \n",
    " - encoding categorical variables, \n",
    " - scaling numerical features, \n",
    " - and feature engineering."
   ]
  },
  {
   "cell_type": "markdown",
   "metadata": {},
   "source": [
    " **First, we check and handle the missing values**"
   ]
  },
  {
   "cell_type": "code",
   "execution_count": 134,
   "metadata": {},
   "outputs": [
    {
     "data": {
      "text/plain": [
       "person_age               0.000000\n",
       "person_income            0.000000\n",
       "person_home_ownership    0.000000\n",
       "person_emp_length        2.803592\n",
       "loan_intent              0.000000\n",
       "loan_grade               0.000000\n",
       "loan_amnt                0.000000\n",
       "loan_int_rate            9.583186\n",
       "loan_percent_income      0.000000\n",
       "dtype: float64"
      ]
     },
     "execution_count": 134,
     "metadata": {},
     "output_type": "execute_result"
    }
   ],
   "source": [
    "100 * (X_train.isna().sum(0) / len(X_train))"
   ]
  },
  {
   "cell_type": "markdown",
   "metadata": {},
   "source": [
    "- We can see from output above there is a missing values in the Features/columns **'person_emp_length'** and **'loan_int_rate'**\n",
    "\n",
    "- so we will Impute the missing values above\n",
    "\n",
    "- Before we crosscheck with EDA, we need separate the Numerical and categorical values so we can use Histogram to see the Distribution of the X Data"
   ]
  },
  {
   "cell_type": "markdown",
   "metadata": {},
   "source": [
    "**Split columns numerical and Categorical**\n",
    "\n",
    "    - we make function to separate Numerical and categorical features (columns)\n",
    "    - so we can see the distribution of the values\n",
    "    - for EDA."
   ]
  },
  {
   "cell_type": "code",
   "execution_count": 145,
   "metadata": {},
   "outputs": [],
   "source": [
    "# Function for splitting into data numerical and categorical\n",
    "###\n",
    "def split_column_numcat(data, num_cols, cat_cols):\n",
    "      \"\"\"\n",
    "      This is a function for splitting the Training data column into\n",
    "      Numerical and Categorical column :\n",
    "\n",
    "      Parameters:\n",
    "         - data, an input data (pd. Dataframe)\n",
    "         - num_cols, a list of numerical columns (list)\n",
    "         - cat_cols, a list of categorical columns (list)\n",
    "         - and write a validation that perform right operation\n",
    "         - and return two dataframe, numerical & categorical data\n",
    "\n",
    "      Return:\n",
    "         - numerical_data : pd.DataFrame that inside of numerical columns.\n",
    "         - categorical_data: pd.DataFrame that inside of categorical columns.\n",
    "         \n",
    "      Candra Kurniawan , Pacmann AI\n",
    "      \"\"\"\n",
    "      numerical_data = data[num_cols]\n",
    "      categorical_data = data[cat_cols]\n",
    "\n",
    "      print(f\"Data num shape : {numerical_data.shape}\")\n",
    "      print(f\"Data cat shape : {categorical_data.shape}\")\n",
    "\n",
    "      return numerical_data, categorical_data\n",
    "\n"
   ]
  },
  {
   "cell_type": "code",
   "execution_count": null,
   "metadata": {},
   "outputs": [],
   "source": [
    "# Listing the Numerical Columns to select\n",
    "X_train_num_columns = ['person_age', \n",
    "                       'person_income', \n",
    "                       'person_emp_length', \n",
    "                       'loan_amnt', \n",
    "                       'loan_int_rate', \n",
    "                       'loan_percent_income']\n",
    "\n",
    "# This one for listing all the dataset X_train columns\n",
    "X_train_columns = list(X_train.columns)\n",
    "\n",
    "# Then, using all X_train columns we can get the difference of the columns inside\n",
    "# Variable 'X_train_num_columns'\n",
    "X_train_cat_columns = list(set(X_train_columns).difference(set(X_train_num_columns)))\n",
    "\n",
    "print(X_train_cat_columns)\n"
   ]
  },
  {
   "cell_type": "code",
   "execution_count": 146,
   "metadata": {},
   "outputs": [
    {
     "name": "stdout",
     "output_type": "stream",
     "text": [
      "Data num shape : (25503, 6)\n",
      "Data cat shape : (25503, 3)\n"
     ]
    }
   ],
   "source": [
    "# Perform the Split the data num & cat function\n",
    "X_train_num, X_train_cat = split_column_numcat(data = X_train, \n",
    "                                               num_cols = X_train_num_columns, \n",
    "                                               cat_cols = X_train_cat_columns)"
   ]
  },
  {
   "cell_type": "code",
   "execution_count": 147,
   "metadata": {},
   "outputs": [
    {
     "data": {
      "text/html": [
       "<div>\n",
       "<style scoped>\n",
       "    .dataframe tbody tr th:only-of-type {\n",
       "        vertical-align: middle;\n",
       "    }\n",
       "\n",
       "    .dataframe tbody tr th {\n",
       "        vertical-align: top;\n",
       "    }\n",
       "\n",
       "    .dataframe thead th {\n",
       "        text-align: right;\n",
       "    }\n",
       "</style>\n",
       "<table border=\"1\" class=\"dataframe\">\n",
       "  <thead>\n",
       "    <tr style=\"text-align: right;\">\n",
       "      <th></th>\n",
       "      <th>person_age</th>\n",
       "      <th>person_income</th>\n",
       "      <th>person_emp_length</th>\n",
       "      <th>loan_amnt</th>\n",
       "      <th>loan_int_rate</th>\n",
       "      <th>loan_percent_income</th>\n",
       "    </tr>\n",
       "  </thead>\n",
       "  <tbody>\n",
       "    <tr>\n",
       "      <th>16209</th>\n",
       "      <td>22</td>\n",
       "      <td>16800</td>\n",
       "      <td>0.0</td>\n",
       "      <td>4750</td>\n",
       "      <td>13.85</td>\n",
       "      <td>0.28</td>\n",
       "    </tr>\n",
       "    <tr>\n",
       "      <th>774</th>\n",
       "      <td>23</td>\n",
       "      <td>84000</td>\n",
       "      <td>7.0</td>\n",
       "      <td>20000</td>\n",
       "      <td>11.11</td>\n",
       "      <td>0.24</td>\n",
       "    </tr>\n",
       "    <tr>\n",
       "      <th>24870</th>\n",
       "      <td>30</td>\n",
       "      <td>77500</td>\n",
       "      <td>2.0</td>\n",
       "      <td>9000</td>\n",
       "      <td>7.88</td>\n",
       "      <td>0.12</td>\n",
       "    </tr>\n",
       "    <tr>\n",
       "      <th>24664</th>\n",
       "      <td>28</td>\n",
       "      <td>68496</td>\n",
       "      <td>8.0</td>\n",
       "      <td>10000</td>\n",
       "      <td>NaN</td>\n",
       "      <td>0.15</td>\n",
       "    </tr>\n",
       "    <tr>\n",
       "      <th>22909</th>\n",
       "      <td>29</td>\n",
       "      <td>60000</td>\n",
       "      <td>2.0</td>\n",
       "      <td>6000</td>\n",
       "      <td>13.49</td>\n",
       "      <td>0.10</td>\n",
       "    </tr>\n",
       "  </tbody>\n",
       "</table>\n",
       "</div>"
      ],
      "text/plain": [
       "       person_age  person_income  person_emp_length  loan_amnt  loan_int_rate  \\\n",
       "16209          22          16800                0.0       4750          13.85   \n",
       "774            23          84000                7.0      20000          11.11   \n",
       "24870          30          77500                2.0       9000           7.88   \n",
       "24664          28          68496                8.0      10000            NaN   \n",
       "22909          29          60000                2.0       6000          13.49   \n",
       "\n",
       "       loan_percent_income  \n",
       "16209                 0.28  \n",
       "774                   0.24  \n",
       "24870                 0.12  \n",
       "24664                 0.15  \n",
       "22909                 0.10  "
      ]
     },
     "execution_count": 147,
     "metadata": {},
     "output_type": "execute_result"
    }
   ],
   "source": [
    "# Check the data X_train_num\n",
    "X_train_num.head()"
   ]
  },
  {
   "cell_type": "code",
   "execution_count": 148,
   "metadata": {},
   "outputs": [
    {
     "data": {
      "text/html": [
       "<div>\n",
       "<style scoped>\n",
       "    .dataframe tbody tr th:only-of-type {\n",
       "        vertical-align: middle;\n",
       "    }\n",
       "\n",
       "    .dataframe tbody tr th {\n",
       "        vertical-align: top;\n",
       "    }\n",
       "\n",
       "    .dataframe thead th {\n",
       "        text-align: right;\n",
       "    }\n",
       "</style>\n",
       "<table border=\"1\" class=\"dataframe\">\n",
       "  <thead>\n",
       "    <tr style=\"text-align: right;\">\n",
       "      <th></th>\n",
       "      <th>loan_intent</th>\n",
       "      <th>person_home_ownership</th>\n",
       "      <th>loan_grade</th>\n",
       "    </tr>\n",
       "  </thead>\n",
       "  <tbody>\n",
       "    <tr>\n",
       "      <th>16209</th>\n",
       "      <td>DEBTCONSOLIDATION</td>\n",
       "      <td>MORTGAGE</td>\n",
       "      <td>C</td>\n",
       "    </tr>\n",
       "    <tr>\n",
       "      <th>774</th>\n",
       "      <td>PERSONAL</td>\n",
       "      <td>RENT</td>\n",
       "      <td>B</td>\n",
       "    </tr>\n",
       "    <tr>\n",
       "      <th>24870</th>\n",
       "      <td>DEBTCONSOLIDATION</td>\n",
       "      <td>MORTGAGE</td>\n",
       "      <td>A</td>\n",
       "    </tr>\n",
       "    <tr>\n",
       "      <th>24664</th>\n",
       "      <td>PERSONAL</td>\n",
       "      <td>RENT</td>\n",
       "      <td>B</td>\n",
       "    </tr>\n",
       "    <tr>\n",
       "      <th>22909</th>\n",
       "      <td>HOMEIMPROVEMENT</td>\n",
       "      <td>MORTGAGE</td>\n",
       "      <td>C</td>\n",
       "    </tr>\n",
       "  </tbody>\n",
       "</table>\n",
       "</div>"
      ],
      "text/plain": [
       "             loan_intent person_home_ownership loan_grade\n",
       "16209  DEBTCONSOLIDATION              MORTGAGE          C\n",
       "774             PERSONAL                  RENT          B\n",
       "24870  DEBTCONSOLIDATION              MORTGAGE          A\n",
       "24664           PERSONAL                  RENT          B\n",
       "22909    HOMEIMPROVEMENT              MORTGAGE          C"
      ]
     },
     "execution_count": 148,
     "metadata": {},
     "output_type": "execute_result"
    }
   ],
   "source": [
    "# Check the data X_train_cat\n",
    "X_train_cat.head()"
   ]
  },
  {
   "cell_type": "markdown",
   "metadata": {},
   "source": [
    "**Now, let's go perform the EDA Process**\n",
    "\n",
    "    - handling missing values, \n",
    "    - encoding categorical variables, \n",
    "    - scaling numerical features, \n",
    "    - and feature engineering."
   ]
  },
  {
   "cell_type": "code",
   "execution_count": 149,
   "metadata": {},
   "outputs": [],
   "source": [
    "import matplotlib.pyplot as plt\n",
    "import seaborn as sns\n",
    "%matplotlib inline"
   ]
  },
  {
   "cell_type": "code",
   "execution_count": 150,
   "metadata": {},
   "outputs": [
    {
     "data": {
      "image/png": "[encoded data removed]",
      "text/plain": [
       "<Figure size 1200x800 with 9 Axes>"
      ]
     },
     "metadata": {},
     "output_type": "display_data"
    }
   ],
   "source": [
    "# Plot histogram\n",
    "fig, ax = plt.subplots(nrows=3, ncols=3, figsize=(12, 8))\n",
    "axes = ax.flatten()\n",
    "\n",
    "for i, col in enumerate(X_train_num.columns):\n",
    "    sns.kdeplot(X_train_num[col], ax=axes[i])\n",
    "    axes[i].set_title(f'Distribution of {col}')\n",
    "\n",
    "plt.tight_layout()\n",
    "plt.show()"
   ]
  },
  {
   "cell_type": "markdown",
   "metadata": {},
   "source": []
  }
 ],
 "metadata": {
  "kernelspec": {
   "display_name": "Python 3",
   "language": "python",
   "name": "python3"
  },
  "language_info": {
   "codemirror_mode": {
    "name": "ipython",
    "version": 3
   },
   "file_extension": ".py",
   "mimetype": "text/x-python",
   "name": "python",
   "nbconvert_exporter": "python",
   "pygments_lexer": "ipython3",
   "version": "3.11.6"
  }
 },
 "nbformat": 4,
 "nbformat_minor": 2
}
